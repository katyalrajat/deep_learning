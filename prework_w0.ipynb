{
 "cells": [
  {
   "cell_type": "markdown",
   "metadata": {
    "toc-hr-collapsed": true
   },
   "source": [
    "# 1. Introduction to Prework"
   ]
  },
  {
   "cell_type": "markdown",
   "metadata": {},
   "source": [
    "## 1.1 Where you are at"
   ]
  },
  {
   "cell_type": "markdown",
   "metadata": {},
   "source": [
    "The installation instructions are contained in section 2 below and in a separate HTML file you can follow."
   ]
  },
  {
   "cell_type": "markdown",
   "metadata": {},
   "source": [
    "Following from the html document you should have now:\n",
    "\n",
    "* Downloaded and installed python and are able to use python 3.6 either via conda, virtual environments or other hackery. \n",
    "* Downloaded and installed jupyter and jupyterlab (with the recommended add ons)\n",
    "    * If you have the TOC add on you can conveniently skip to different sections of these books from the side tab\n",
    "\n",
    "For this first week I have provided an additional document as a PDF to get you started but from now on this course will be essentially run through jupyter notebooks and powerpoint so you must be comfortable opening and using them."
   ]
  },
  {
   "cell_type": "markdown",
   "metadata": {},
   "source": [
    "Below I have repeated the instructions with links for installing software for reference so if you are part of the way there (you can open jupyter notebooks) you can pick it up here for the add ons and continue on :)"
   ]
  },
  {
   "cell_type": "markdown",
   "metadata": {},
   "source": [
    "## 1.2 How prework will work"
   ]
  },
  {
   "cell_type": "markdown",
   "metadata": {},
   "source": [
    "For the pre-work weeks we will cover the following broad topics in order to get you best prepared for Week 1 and a reasonably ambitious subject. \n",
    "\n",
    "* Week 0 [11th March] (python indexing joke...)\n",
    "    * Python Programming\n",
    "* Week 1 [18th March]\n",
    "    * Introduction to (Necessary) Calculus\n",
    "    * Python for Data Science 1 (Numpy & Pandas part 1)\n",
    "* Week 2 [25th March]\n",
    "    * Introduction to (Necessary) Linear Algebra\n",
    "    * Python for Data Science 2 (Numpy & Pandas part 2)"
   ]
  },
  {
   "cell_type": "markdown",
   "metadata": {},
   "source": [
    "In general I will not be creating extensive exercises during the pre-work weeks, but rather I will be providing some resources and a series of topics and keywords that you are able to research and build yourself. No need to reinvent the wheel. Everyone has their own learning style and I will be sharing mine as we go along but don't expect that to be the most comfortable for everyone. \n",
    "\n",
    "At this stage of your MDSI journey you should be experienced enough to take key topics and ideas and locate the resources that best explain things to you if needed beyond the provided resources. "
   ]
  },
  {
   "cell_type": "markdown",
   "metadata": {},
   "source": [
    "It goes without saying, but I will note it for completeness, that putting in effort on the prework will ease the load as we move into the content weeks. You really don't want to be wondering _'What is that bit of python code?'_ (a for loop) or _'How did that matrix turn into that?'_ (a multiplication). \n",
    "\n",
    "We will briefly re-hash some of this during the initial weeks but we simply cannot afford much class time on this. Moreover, your first assessment will be largely technical in nature so the skills gained in these first weeks are going to be very useful ;)"
   ]
  },
  {
   "cell_type": "markdown",
   "metadata": {},
   "source": [
    "## 1.3 Where to get support"
   ]
  },
  {
   "cell_type": "markdown",
   "metadata": {},
   "source": [
    "As was noted in the introduction, the `#mdsi_deeplearn_aut_19` channel (https://utsmdsi.slack.com/messages/CGQREKSBG/) will be a great place for peer support that I will be actively monitoring as much as I can to assist. Since the MDSI cohort draws from a wide pool of professional and educational backgrounds, some of this content and work will be very easy for some and hard for others; and I expect this to fluctuate for a given individual over the semester. \n",
    "\n",
    "**So help each other**\n",
    "\n",
    "Please **do not** send emails unless it is something personal that is not appropriate to share in the channel. Of course direct private conversations via email and do not feel hesitant to do so. But given the large course size Kailash and I are not going to be very keen to answer the same question a half dozen or more times over email where both the question and answer is very relevant to all.\n",
    "\n",
    "Needless to say if a peer posts a question, be supportive and helpful as I really want to make this a lively and interactive course where we learn together :) "
   ]
  },
  {
   "cell_type": "markdown",
   "metadata": {
    "toc-hr-collapsed": false
   },
   "source": [
    "# 2. Install Fest"
   ]
  },
  {
   "cell_type": "markdown",
   "metadata": {},
   "source": [
    "## 2.1 Python3"
   ]
  },
  {
   "cell_type": "markdown",
   "metadata": {},
   "source": [
    "This course will use Python3. Specifically I recommend using python 3.6. You can use whatever version you like prior to Python3.7 as tensorflow (as at this very moment) does not support it. Perhaps midway through the course it will but let's not deal with version changes mid way through a course. Python3.6 it is. \n",
    "\n"
   ]
  },
  {
   "cell_type": "markdown",
   "metadata": {
    "toc-hr-collapsed": true
   },
   "source": [
    "### 2.1.1 Mac Users"
   ]
  },
  {
   "cell_type": "markdown",
   "metadata": {},
   "source": [
    "#### 2.1.1.1 Background: Terminal"
   ]
  },
  {
   "cell_type": "markdown",
   "metadata": {},
   "source": [
    "For mac it is relatively straightforward since you have access to terminal. If you are not familiar with this, I strongly recommend you get yourself familiar with terminal. Wouldn't you know it, there is a convenient datacamp course that covers the basics:\n",
    "\n",
    "* https://www.datacamp.com/courses/introduction-to-shell-for-data-science\n",
    "\n",
    "I personally am a large fan of Iterm2 as you can have split windows, one with perhaps `htop` and some others with your various folders, your jupyterlab notebook server and even a git/github terminal. \n",
    "\n",
    "* Iterm https://www.iterm2.com/\n",
    "* htop https://hisham.hm/htop/\n",
    "\n",
    "Remind me in class to show you all the magic of the bash profile and aliases. If you have not configured this yet - it will change your life ;) \n",
    "\n",
    "* https://mijingo.com/blog/creating-bash-aliases"
   ]
  },
  {
   "cell_type": "markdown",
   "metadata": {},
   "source": [
    "Here are a bunch of extra resources to get you up to speed with terminal fast:\n",
    "* Mac terminal cheat sheet https://github.com/0nn0/terminal-mac-cheatsheet\n",
    "* Terminal tutorials https://quickleft.com/blog/tag/command-line/page/4/"
   ]
  },
  {
   "cell_type": "markdown",
   "metadata": {},
   "source": [
    "#### 2.1.1.2 Homebrew method"
   ]
  },
  {
   "cell_type": "markdown",
   "metadata": {},
   "source": [
    "You can manage python versions with homebrew. However is likely going to be annoying and force you to use python 3.7 since it wants you to have updated versions. If you really want to use homebrew to manage Python then you can do some trickery to get it to work:\n",
    "\n",
    "* https://stackoverflow.com/questions/51125013/how-can-i-install-a-previous-version-of-python-3-in-macos-using-homebrew\n",
    "\n",
    "(There are a few more articles floating around with these tutorials but you get the drift)\n",
    "\n",
    "I personally tried this method but found it very difficult and annoying and only partly worked. "
   ]
  },
  {
   "cell_type": "markdown",
   "metadata": {},
   "source": [
    "#### 2.1.1.3 (Advanced - Recommended) Virtual Environments Method"
   ]
  },
  {
   "cell_type": "markdown",
   "metadata": {},
   "source": [
    "This is the method that I have currently settled on. I use python virtual environments which are a very popular way to handle contained versions of python with the packages (and package versions) that you want. \n",
    "\n",
    "This is for more advanced users who are comfortable with terminal and a unix system but overall I think this is one of the better methods.\n",
    "\n",
    "* https://medium.freecodecamp.org/manage-multiple-python-versions-and-virtual-environments-venv-pyenv-pyvenv-a29fb00c296f\n",
    "* https://realpython.com/python-virtual-environments-a-primer/\n",
    "\n",
    "You can launch your notebooks using whatever version you like (and you can add a shortcut in your bash profile!)\n",
    "\n",
    "For reference, here is how I go straight into my `ml-env` that I have configured for data science work (Python 3.6 and standard packages installed). I use the following bash profile alias:\n",
    "\n",
    "`alias pyvnvml='cd /Users/scriven/Dropbox/Dev/py-vms && source ml-env/bin/activate'`\n"
   ]
  },
  {
   "cell_type": "markdown",
   "metadata": {
    "toc-hr-collapsed": true
   },
   "source": [
    "### 2.1.2 Windows & Mac Users"
   ]
  },
  {
   "cell_type": "markdown",
   "metadata": {},
   "source": [
    "Possibly the environments way can be accomplished on Windows through its terminal or perhaps with the Ubuntu subsystem available in W10. I cannot provide more technical advice on this so I would recommend simply using the Conda method below for Windows users."
   ]
  },
  {
   "cell_type": "markdown",
   "metadata": {},
   "source": [
    "#### 2.1.2.1 (Easy - Recommended) Conda Method"
   ]
  },
  {
   "cell_type": "markdown",
   "metadata": {},
   "source": [
    "Conda is the easiest and quickest way to get Python, manage your packages and have everything in a nice and neat place.\n",
    "\n",
    "* https://www.anaconda.com/distribution/\n",
    "\n",
    "This will also ship with Jupyter, Jupyter Lab and a bunch of useful data science packages all installed at once! \n",
    "\n",
    "You can also easily manage your environments with a graphical user interface if you are still not a fan of terminal\n",
    "\n",
    "* https://docs.anaconda.com/anaconda/navigator/tutorials/use-multiple-python-versions/\n",
    "\n",
    "Or alternatively you can just ask it to use an older version of Python without using an environment. But note that even they recommend having environments. It is nice to keep things separate.\n",
    "\n",
    "* https://docs.anaconda.com/anaconda/user-guide/faq/#anaconda-faq-35"
   ]
  },
  {
   "cell_type": "markdown",
   "metadata": {},
   "source": [
    "There is also some notes out there about the efficiency of tensorflow installed with pip vs with conda. For this course we likely won't be doing anything so intense as for this to really be a huge impact but this would be another argument for simply using Conda as the default option.\n",
    "\n",
    "* https://towardsdatascience.com/stop-installing-tensorflow-using-pip-for-performance-sake-5854f9d9eb0c"
   ]
  },
  {
   "cell_type": "markdown",
   "metadata": {},
   "source": [
    "## 2.2 Packages"
   ]
  },
  {
   "cell_type": "markdown",
   "metadata": {},
   "source": [
    "For Week 0 you do not need anything other than 'base' python.\n",
    "\n",
    "Though if you want to get all the installing done at once you can get a few extra things done now.\n",
    "\n",
    "If you use the conda method there will not be anything additional to install at this stage, the core data science packages ship with it. You may want to install `plotly` if you want to play with some advanced visualisations.\n",
    "\n",
    "Though if you are using the Pip/pypi way of managing packages, some ones you will need in weeks 1 and 2 are:\n",
    "\n",
    "* Pandas\n",
    "* Numpy\n",
    "* Matplotlib\n",
    "* Scipy/statsmodels"
   ]
  },
  {
   "cell_type": "markdown",
   "metadata": {},
   "source": [
    "## 2.3 Jupyter & Jupyterlab"
   ]
  },
  {
   "cell_type": "markdown",
   "metadata": {},
   "source": [
    "### 2.3.1 Introduction"
   ]
  },
  {
   "cell_type": "markdown",
   "metadata": {},
   "source": [
    "Jupyter notebooks sit somewhere between a traditional text editor and a full IDE. They are essentially browser-based documents that allow you to mix code, visualisations, markdown and other content in an easily presentable and navigable format. Jupyter notebooks have become incredibly popular for data science work in recent years because they make it very easy to mix content and code in a way that makes analytical work presentation-ready almost instantly. Presenting data science and analytical work is about weaving a story about the work undertaken and the results found. This tool helps do this rather nicely."
   ]
  },
  {
   "cell_type": "markdown",
   "metadata": {},
   "source": [
    "Compared to a traditional programming script that utilises comments and is run all at once, Jupyter notebooks have the great feature of having isolated ‘cells’ that can be either markdown, text or code. Therefore rather than separating code with spaces, hashes or some other internal methods you can have distinct, separate sections that you can run and re-run easily without having to highlight and read into the console. Recipients of the notebook can navigate through the code and feel closer to the work that was completed. "
   ]
  },
  {
   "cell_type": "markdown",
   "metadata": {},
   "source": [
    "Additionally in early 2018, Jupyter Labs came out of Beta for public use. This extends the typical Jupyter interface to have a files pane, optional split windows and built in consoles for whichever kernels you have installed. Personally I use this heavily for exploratory analytics work, documenting my own scripts and notes as well as sharing technical work where there is a need to tell a story. There are new add-ons and features being released weekly for this and it is a huge community effort.\n",
    "\n",
    "Due to its young age and open-source, community driven nature it isn’t perfect and there are bugs here and there but the future is looking bright and promising for Jupyter lab. \n",
    "\n",
    "Of course, Jupyter is not without its limitations. Some are very vocal about the lack of auto code complete and ‘linting’ (running a process in the background automatically to check your code for errors and stylistic problems) as well as technical issues associated with the ability to run code out of order and maintain a clean state. \n",
    "\n",
    "What I'd like to emphasise is that given the diverse nature of the work that data scientists do, it is advisable to get comfortable with a number of different tools and so take this opportunity to try out Jupyter and especially Jupyterlab. Your assignments will be submitted in this format."
   ]
  },
  {
   "cell_type": "markdown",
   "metadata": {},
   "source": [
    "As you work through this (and perhaps other) courses I would encourage you to build your own notebooks to refer back to. My own toolbox is one of my most important possessions from a professional perspective."
   ]
  },
  {
   "cell_type": "markdown",
   "metadata": {},
   "source": [
    "You can install yourself via the link below but remember that both these ship with anaconda:\n",
    "\n",
    "* https://jupyterlab.readthedocs.io/en/stable/getting_started/installation.html"
   ]
  },
  {
   "cell_type": "markdown",
   "metadata": {},
   "source": [
    "### 2.3.2 Add ons"
   ]
  },
  {
   "cell_type": "markdown",
   "metadata": {},
   "source": [
    "As noted, one of the best parts of Jupyter lab is the new add ons that are getting created. Below are some of my favourites, feel free to find more interesting ones and share with the slack channel!\n",
    "\n",
    "* https://github.com/lckr/jupyterlab-variableInspector\n",
    "* https://github.com/ian-r-rose/jupyterlab-toc (**strongly recommend this one**)\n",
    "\n",
    "Some others:\n",
    "* https://github.com/mauhai/awesome-jupyterlab\n",
    "\n",
    "The TOC add on actually will automatically make your TOC based on the number of `#` you use in markdown title cells but since not everyone has this I will still manually input the numbers. But it certainly makes a difference when you want to go back and insert something into a larger notebook!"
   ]
  },
  {
   "cell_type": "markdown",
   "metadata": {},
   "source": [
    "* How to set this up, handy extensions (like TOC and variable inspector)\n",
    "* Emphasise you can use whatever text editor and IDE you want (Atom, VScode, Pycharm) but this is good for education and sharing"
   ]
  },
  {
   "cell_type": "markdown",
   "metadata": {},
   "source": [
    "## 2.4 Other tech (IDEs?)"
   ]
  },
  {
   "cell_type": "markdown",
   "metadata": {},
   "source": [
    "I wish to importantly add a note here that you are not restricted in what programs you use to take notes, undertake exercises and generally learn in this course. I use a variety of text editors and IDEs for different purposes and it is important you find your own rythm. I will require consistency when submitting assignments but if you wish to do the bulk of the other work in another IDE that is fine. Below are some other programs I use in my general work that tends to be heavily python based for your interest.\n",
    "\n",
    "* Pycharm (free with student license)\n",
    "    * This is all the bells and whistles. You can manage environments, it has a console, version control functions and everything else you could need. This is aimed at larger scale python _development_ and hence I do use this for data science work but more heavily for scripting or work that needs to be more functional than viewable and shareable.\n",
    "* Atom\n",
    "    * A fantastic, free, lightweight (sometimes...) and indefinitely extensible text editor with many add ons. Very large community. I use this to manage general and quick text editing since pycharm takes a bit of resources to load up, as does a notebook server.\n",
    "* Visual Studio Code\n",
    "    * I know, many would begrudge this due to it being a microsoft product but it is actually a fantastic editor. Given Microsoft's acquisition of Atom there is talk/fear around the place that Atom will eventually be phased out in place of this editor so it is worth a look. Many add ons and large community and huge spike in popularity of recent months.\n",
    "* Spyder\n",
    "    * I don't use this but it ships with Conda and looks just like Rstudio so if that is your thing - go for it!"
   ]
  },
  {
   "cell_type": "markdown",
   "metadata": {
    "toc-hr-collapsed": false
   },
   "source": [
    "# 3. Introduction to Python"
   ]
  },
  {
   "cell_type": "markdown",
   "metadata": {},
   "source": [
    "## 3.1 Intro"
   ]
  },
  {
   "cell_type": "markdown",
   "metadata": {},
   "source": [
    "Now we get to the fun part. This week will focus on you learning the basics of python itself. This will have little to do with data or ml, deep learning etc. This is just to get your familiar with all the systems and the language.\n",
    "\n",
    "By now most of you will have been doing a reasonable amount of programming in R so this will be a lot of syntax translation and understanding the way that python does things as compared to R."
   ]
  },
  {
   "cell_type": "markdown",
   "metadata": {},
   "source": [
    "## 3.2 OO vs Functional"
   ]
  },
  {
   "cell_type": "markdown",
   "metadata": {},
   "source": [
    "One of the main (and somewhat subtle, you may not even really notice) ways is the different programming paradigms. Python is mainly `object oriented` whilst R is mainly a `functional` programming langauge. \n",
    "\n",
    "What that means is beyond the scope of this course but you can read up a little here. The top few resources on google do a reasonable job of this:\n",
    "\n",
    "* https://www.codenewbie.org/blogs/object-oriented-programming-vs-functional-programming \n",
    "    * Reading only up to the two wikipedia quotes pretty much sums it up\n",
    "* https://medium.com/@sho.miyata.1/the-object-oriented-programming-vs-functional-programming-debate-in-a-beginner-friendly-nutshell-24fb6f8625cc\n",
    "    * A nice employee salary raise example here"
   ]
  },
  {
   "cell_type": "markdown",
   "metadata": {},
   "source": [
    "## 3.3 Enough Theory...."
   ]
  },
  {
   "cell_type": "markdown",
   "metadata": {},
   "source": [
    "Alright, enough theory - let's dive in. Now you have all your systems set up it is time to dive into coding. I will leave you to arrange your notes (perhaps notebooks!) in your own way and provide some resources and importantly key terms for what you should work on familiarising yourself with."
   ]
  },
  {
   "cell_type": "markdown",
   "metadata": {},
   "source": [
    "### 3.3.1 Basics"
   ]
  },
  {
   "cell_type": "markdown",
   "metadata": {},
   "source": [
    "You should be comfortable with:\n",
    "\n",
    "* How to import and use packages\n",
    "* Basic data types (numbers, strings, int, float, booleans)\n",
    "    * Comparisons of data types\n",
    "* Lists (vs tuples)\n",
    "    * Especially list comprehension! A very useful tool\n",
    "    * Learn about the zip function\n",
    "* Sets\n",
    "    * Very useful for seeing if there are duplicates in your list.\n",
    "* Dictionaries (sometimes 'hashes' in other languages)"
   ]
  },
  {
   "cell_type": "markdown",
   "metadata": {},
   "source": [
    "The first two of those will be covered here in the first two parts:\n",
    "\n",
    "* https://www.datacamp.com/courses/intro-to-python-for-data-science\n",
    "\n",
    "Dictionaries are covered in Part 2 (and perhaps a bit of 3) here:\n",
    "\n",
    "* https://www.datacamp.com/courses/data-types-for-data-science\n",
    "\n",
    "W3schools is simple but will go through the basic data types:\n",
    "* https://www.w3schools.com/python/python_intro.asp"
   ]
  },
  {
   "cell_type": "markdown",
   "metadata": {},
   "source": [
    "I couldn't find a nice little tutorial about packages so I just wrote a toy one below, though this video does a reasonable job of it:\n",
    "\n",
    "* https://campus.datacamp.com/courses/python-for-r-users/the-basics-1?ex=7\n",
    "\n",
    "('Functions, Methods, and Libraries' in 'Python for R users')"
   ]
  },
  {
   "cell_type": "code",
   "execution_count": 8,
   "metadata": {},
   "outputs": [],
   "source": [
    "# Importing packages\n",
    "\n",
    "# You can simply import the whole thing\n",
    "import csv\n",
    "\n",
    "# Or import only the function you want\n",
    "from csv import DictReader\n",
    "\n",
    "# You can optionally name it as you import for convenience\n",
    "from datetime import datetime as date_stuff"
   ]
  },
  {
   "cell_type": "markdown",
   "metadata": {},
   "source": [
    "### 3.3.2 Control structures"
   ]
  },
  {
   "cell_type": "markdown",
   "metadata": {},
   "source": [
    "Key topics:\n",
    "\n",
    "* If-else statements\n",
    "* For loops\n",
    "    * Break and Continue\n",
    "* While loops\n",
    "* Try-Except error catching\n",
    "    * Useful to ensure scripts can still run but catch errors"
   ]
  },
  {
   "cell_type": "markdown",
   "metadata": {},
   "source": [
    "W3 schools will cover most of this again, though the Try....Except part is down the bottom of their list:\n",
    "\n",
    "* https://www.w3schools.com/python/python_try_except.asp"
   ]
  },
  {
   "cell_type": "markdown",
   "metadata": {},
   "source": [
    "### 3.3.3 Writing (IO)"
   ]
  },
  {
   "cell_type": "markdown",
   "metadata": {},
   "source": [
    "It is also good to know how to read in and out files. When we get to the pandas and numpy section you can use them to read in files for data work, but you may need to just get some data in for scripting work."
   ]
  },
  {
   "cell_type": "markdown",
   "metadata": {},
   "source": [
    "* https://www.tutorialspoint.com/python/python_files_io.htm\n",
    "\n",
    "This tutorial is quite thorough. You won't really need to worry much about user input but the reading and writing from files is useful. A simple example is below:"
   ]
  },
  {
   "cell_type": "markdown",
   "metadata": {},
   "source": [
    "#### 3.3.3.1 Small example"
   ]
  },
  {
   "cell_type": "code",
   "execution_count": 9,
   "metadata": {},
   "outputs": [
    {
     "name": "stdout",
     "output_type": "stream",
     "text": [
      "35\n",
      "<class 'str'>\n"
     ]
    }
   ],
   "source": [
    "# Read in a text file into one big item\n",
    "with open('file1.txt', 'r') as file_in:\n",
    "    big_item = file_in.read()\n",
    "file_in.close()\n",
    "\n",
    "print(len(big_item))\n",
    "print(type(big_item))"
   ]
  },
  {
   "cell_type": "markdown",
   "metadata": {},
   "source": [
    "Notice that it is not a list of length 35, but that is actually the number of characters?"
   ]
  },
  {
   "cell_type": "code",
   "execution_count": 6,
   "metadata": {},
   "outputs": [
    {
     "name": "stdout",
     "output_type": "stream",
     "text": [
      "this\n",
      "is\n",
      "\n",
      "a\n",
      "file\n",
      "\n",
      "here\n",
      "we are yes no\n"
     ]
    }
   ],
   "source": [
    "print(big_item)"
   ]
  },
  {
   "cell_type": "code",
   "execution_count": 8,
   "metadata": {},
   "outputs": [
    {
     "name": "stdout",
     "output_type": "stream",
     "text": [
      "8\n",
      "<class 'list'>\n"
     ]
    }
   ],
   "source": [
    "# Read in a text file into a list\n",
    "with open('file1.txt', 'r') as file_in:\n",
    "    list_item = file_in.readlines()\n",
    "file_in.close()\n",
    "\n",
    "print(len(list_item))\n",
    "print(type(list_item))"
   ]
  },
  {
   "cell_type": "markdown",
   "metadata": {},
   "source": [
    "Now it is only 8 long and we can see it is a list"
   ]
  },
  {
   "cell_type": "code",
   "execution_count": 10,
   "metadata": {},
   "outputs": [
    {
     "name": "stdout",
     "output_type": "stream",
     "text": [
      "['this\\n', 'is\\n', '\\n', 'a\\n', 'file\\n', '\\n', 'here\\n', 'we are yes no']\n"
     ]
    }
   ],
   "source": [
    "print(list_item)"
   ]
  },
  {
   "cell_type": "markdown",
   "metadata": {},
   "source": [
    "Those '\\n' are a bit annoying? I will leave it to you to fix this but you can either fix upon reading in or with one line list comprehension. (big hint is `strip()`)"
   ]
  },
  {
   "cell_type": "markdown",
   "metadata": {},
   "source": [
    "### 3.3.4 Functions"
   ]
  },
  {
   "cell_type": "markdown",
   "metadata": {},
   "source": [
    "Key topics:\n",
    "\n",
    "* Learn how to create a function, call it, return values\n",
    "    * **important** learn the difference between local and global variables\n",
    "* (Advanced): Learn about anonymous functions with Lambda.\n",
    "    * This is advanced, don't worry if you don't get to this"
   ]
  },
  {
   "cell_type": "markdown",
   "metadata": {},
   "source": [
    "W3 schools also covers this but additionally tutorialspoint has this nice article:\n",
    "\n",
    "* https://www.tutorialspoint.com/python/python_functions.htm\n",
    "\n",
    "And this nice interactive tutorial:\n",
    "* https://www.learnpython.org/en/Functions"
   ]
  },
  {
   "cell_type": "markdown",
   "metadata": {
    "toc-hr-collapsed": true
   },
   "source": [
    "### 3.3.5 (Advanced) OO Programming"
   ]
  },
  {
   "cell_type": "markdown",
   "metadata": {},
   "source": [
    "Object Oriented programming is an advanced topic and you do not need to invest heavily here but it is a good idea to flick through some content to understand what objects are, classes and how it all works. Many of the libraries you interact with will be creating objects that you interact with."
   ]
  },
  {
   "cell_type": "markdown",
   "metadata": {},
   "source": [
    "For now, don't worry about class inheritance, if you can understand the following concepts that is enough for now:\n",
    "\n",
    "* The difference between a class and an object\n",
    "* Attributes and methods of a class\n",
    "    * How to create, how to update, how to call (methods)"
   ]
  },
  {
   "cell_type": "markdown",
   "metadata": {},
   "source": [
    "There is a nice datacamp tutorial on this:\n",
    "\n",
    "* https://www.datacamp.com/courses/object-oriented-programming-in-python \n",
    "\n",
    "I don't know how good the middle of the first chapter is, but from chapter 2 onwards it looks good.\n",
    "\n",
    "Additionally this is quite a comprehensive article:\n",
    "\n",
    "* https://realpython.com/python3-object-oriented-programming/\n",
    "\n",
    "And an article to assist if you are confused by this 'self' business:\n",
    "\n",
    "* https://micropyramid.com/blog/understand-self-and-__init__-method-in-python-class/"
   ]
  },
  {
   "cell_type": "markdown",
   "metadata": {
    "toc-hr-collapsed": true
   },
   "source": [
    "# 4. Wrap up"
   ]
  },
  {
   "cell_type": "markdown",
   "metadata": {},
   "source": [
    "Phew! That is quite a lot to cover in one week. Don't worry though, I don't expect you to be an expert in Python in 7 days. However keep working through this content as you find the time. Not only will it assist in your efficiency in this course but you will get to put on your resume that you are a bilingual data scientist (the dream!)\n",
    "\n",
    "See you all next week :) "
   ]
  },
  {
   "cell_type": "code",
   "execution_count": null,
   "metadata": {},
   "outputs": [],
   "source": []
  }
 ],
 "metadata": {
  "kernelspec": {
   "display_name": "Python 3",
   "language": "python",
   "name": "python3"
  },
  "language_info": {
   "codemirror_mode": {
    "name": "ipython",
    "version": 3
   },
   "file_extension": ".py",
   "mimetype": "text/x-python",
   "name": "python",
   "nbconvert_exporter": "python",
   "pygments_lexer": "ipython3",
   "version": "3.6.5"
  },
  "toc-autonumbering": false
 },
 "nbformat": 4,
 "nbformat_minor": 2
}
