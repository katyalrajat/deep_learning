{
 "cells": [
  {
   "cell_type": "markdown",
   "metadata": {
    "toc-hr-collapsed": true
   },
   "source": [
    "# 1. Packages and Data"
   ]
  },
  {
   "cell_type": "markdown",
   "metadata": {},
   "source": [
    "## 1.1 Packages"
   ]
  },
  {
   "cell_type": "code",
   "execution_count": 115,
   "metadata": {},
   "outputs": [],
   "source": [
    "# Standard data libraries\n",
    "import pandas as pd\n",
    "import numpy as np\n",
    "\n",
    "# Other useful ones\n",
    "import os\n",
    "import time\n",
    "\n",
    "#For displaying tables nicer (side by side etc)\n",
    "from IPython.display import display_html "
   ]
  },
  {
   "cell_type": "markdown",
   "metadata": {},
   "source": [
    "## 1.2 Data"
   ]
  },
  {
   "cell_type": "markdown",
   "metadata": {},
   "source": [
    "This is the wine dataset from UCI ml repository again. Various chemical properties of wine. I have made an addition in that the second last column is named `quality_binary` and is the judge score (1-10) which I have truncated in the last column to a binary 1-0 (good-bad) if the `quality_raw` is greater than or equal to 7."
   ]
  },
  {
   "cell_type": "code",
   "execution_count": 4,
   "metadata": {},
   "outputs": [],
   "source": [
    "data_dir = os.getcwd() + \"/datasets\"\n",
    "wine = pd.read_csv(data_dir + \"/wine-total.csv\")"
   ]
  },
  {
   "cell_type": "markdown",
   "metadata": {
    "toc-hr-collapsed": true
   },
   "source": [
    "# 2. Pandas part 2"
   ]
  },
  {
   "cell_type": "markdown",
   "metadata": {},
   "source": [
    "Here we continue from last week and do a bit more _wrangling_ with pandas. There are many tools under the hood of Pandas to assist with your data manipulation and analysis. I will outline some useful functions and resources, however feel free to continue to work through the docs to find and build examples for yourself."
   ]
  },
  {
   "cell_type": "markdown",
   "metadata": {},
   "source": [
    "## 2.1 Key topics"
   ]
  },
  {
   "cell_type": "markdown",
   "metadata": {},
   "source": [
    "You can see below there are lots of useful methods with pandas. To assist prioritisation of your time, the following are the most important to understand at this point in time. Though all may be useful for your task!\n",
    "\n",
    "* Selecting & Dropping\n",
    "* Functions on a df\n",
    "\n",
    "Groupby is likely to also be useful for your EDA"
   ]
  },
  {
   "cell_type": "markdown",
   "metadata": {},
   "source": [
    "* Selecting data from a df:\n",
    "    * Base Methods\n",
    "        * Extract a column or columns to list, df or series\n",
    "        * Using the '.' notation vs using square brackets (df.column vs df['column'] vs df[['column']])\n",
    "        * How to extract a column to a numpy array\n",
    "        * Slicing out rows\n",
    "    * Loc and Iloc\n",
    "    * Ensure you know how to extract multiple columns (by name, list or index)\n",
    "    * Extraction via conditions (including multiple conditions, OR conditions)\n",
    "* Dropping rows, columns, conditional dropping\n",
    "* Reshape a df\n",
    "    * Transpose\n",
    "    * Melt (turning wide to long)\n",
    "    * Pivot & Pivot_table (long to wide)\n",
    "    * Crosstab analysis\n",
    "    * Binning (cut and qcut)\n",
    "* Joining dfs \n",
    "    * Merge, concat\n",
    "* Sorting a df\n",
    "    * Using python's `sorted` method (if you extract a series)\n",
    "    * Directly on a df (`sort_values`). \n",
    "        * Note that when you sort_values() on a df this will still keep the index values. Hence to 'put it back' you can sort_index which will sort by the index. If we do not want this to be possible anymore, we can reset the index with reset_index() first. \n",
    "* Functions on a df\n",
    "    * apply() vs applymap() vs map()\n",
    "    * using .agg function on columns\n",
    "    * vectorising to improve speed\n",
    "    * pipe functions\n",
    "* Grouping a df\n",
    "    * simple groupby\n",
    "        * Undertake one and see what kind of object is returned\n",
    "    * Including a call to .agg\n",
    "    * Multi-index groupby"
   ]
  },
  {
   "cell_type": "markdown",
   "metadata": {},
   "source": [
    "## 2.2 Resources"
   ]
  },
  {
   "cell_type": "markdown",
   "metadata": {},
   "source": [
    "### 2.2.1 New Resources"
   ]
  },
  {
   "cell_type": "markdown",
   "metadata": {},
   "source": [
    "Largely the resources from last week will still apply, so I will copy them below. Some additionals resources are below that are more focussed on the content.\n",
    "\n",
    "* https://pandas.pydata.org/Pandas_Cheat_Sheet.pdf\n",
    "\n",
    "These cheat sheets. However they don't cover the nuances of actually doing this stuff, combining techniques etc. Hence you are encouraged to build your own notes and examples in addition to these.\n",
    "\n",
    "* https://nikgrozev.com/2015/07/01/reshaping-in-pandas-pivot-pivot-table-stack-and-unstack-explained-with-pictures/\n",
    "\n",
    "This tutorial on stacking, pivoting etc a df. I don't see stack and unstack used as much but these are a generalisation of pivot so perhaps may be useful. \n",
    "\n",
    "* http://pbpython.com/pandas-crosstab.html\n",
    "\n",
    "Nice tutorial on crosstab analysis\n",
    "\n",
    "* http://jonathansoma.com/lede/foundations/classes/pandas%20columns%20and%20functions/apply-a-function-to-every-row-in-a-pandas-dataframe/\n",
    "\n",
    "Functions and dataframes"
   ]
  },
  {
   "cell_type": "markdown",
   "metadata": {},
   "source": [
    "### 2.2.2 Resources from last week"
   ]
  },
  {
   "cell_type": "markdown",
   "metadata": {},
   "source": [
    "Copied across for convenience:\n",
    "\n",
    "* https://www.datacamp.com/courses/intermediate-python-for-data-science\n",
    "    * Chapter 2 and the back end of chapter 3\n",
    "* https://jakevdp.github.io/PythonDataScienceHandbook/\n",
    "    * Chapter 3\n",
    "\n",
    "I would strongly recommend simply going through the pandas documentation and making notes and examples on all the useful elements. This does take a bit of time and you will not be able to do it all at once, but at least getting yourself familiar with what is in there will be very useful.\n",
    "\n",
    "* https://pandas.pydata.org/pandas-docs/stable/reference/series.html\n",
    "    * The pandas series reference documentation\n",
    "* https://pandas.pydata.org/pandas-docs/stable/reference/frame.html\n",
    "    * The pandas dataframe reference documentation"
   ]
  },
  {
   "cell_type": "markdown",
   "metadata": {
    "toc-hr-collapsed": false
   },
   "source": [
    "# 3. Some of my notes"
   ]
  },
  {
   "cell_type": "markdown",
   "metadata": {},
   "source": [
    "I realise the list above is quite large and so I have included some of my notes and walkthroughs to assist. This more advanced stuff is not compulsory for undertaking deep learning. Basic python is and being *moderately* comfortable with pandas and its abilitities is where I want to get you to. However I put this content in here for those who want to work ahead and perhaps others who want to come back to it later. Enjoy!\n",
    "\n",
    "I won't provide my notes on selecting as this is such an important topic you need to write your own notes and practice this. Some of the other more complex or lower value (so you can just flick through) ones I will outline below."
   ]
  },
  {
   "cell_type": "markdown",
   "metadata": {
    "toc-hr-collapsed": true
   },
   "source": [
    "## 3.1 Binning values (cut + qcut)"
   ]
  },
  {
   "cell_type": "markdown",
   "metadata": {},
   "source": [
    "These two functions are used to bin continuous values. The documentation notes 'For example, cut could convert ages to groups of age ranges. Supports binning into an equal number of bins, or a pre-specified array of bins.'"
   ]
  },
  {
   "cell_type": "markdown",
   "metadata": {
    "toc-hr-collapsed": true
   },
   "source": [
    "### 3.1.1 Cut"
   ]
  },
  {
   "cell_type": "markdown",
   "metadata": {},
   "source": [
    "For this function we will explore examples where we:\n",
    "* Ask to split into n bins\n",
    "* define the bins ourselves (useful for dealing with a long tail)\n",
    "\n",
    "The 'labels' parameter is important to specify. We can give labels to each of the new categories (for example, 'good, bad, ok') or we can just set to False and the bin number for each entity will be returned."
   ]
  },
  {
   "cell_type": "code",
   "execution_count": 73,
   "metadata": {},
   "outputs": [
    {
     "data": {
      "text/plain": [
       "4     2\n",
       "5    19\n",
       "6    16\n",
       "7    11\n",
       "8     2\n",
       "Name: quality_raw, dtype: int64"
      ]
     },
     "execution_count": 73,
     "metadata": {},
     "output_type": "execute_result"
    }
   ],
   "source": [
    "#Let us sample from the wine set\n",
    "seed = 42\n",
    "wine_small = wine.sample(50, random_state=seed)\n",
    "\n",
    "# Have a look to see what types of raw quality we got in the sam[;e]\n",
    "wine_small.quality_raw.value_counts().sort_index()"
   ]
  },
  {
   "cell_type": "code",
   "execution_count": 78,
   "metadata": {},
   "outputs": [
    {
     "name": "stdout",
     "output_type": "stream",
     "text": [
      "3103      bad\n",
      "1419    great\n",
      "4761    great\n",
      "4690    great\n",
      "4032       ok\n",
      "Name: quality_raw, dtype: category\n",
      "Categories (3, object): [bad < ok < great]\n",
      "\n",
      "The bin limits were: \n",
      "\n",
      "[0.993      3.33333333 5.66666667 8.        ]\n",
      "\n",
      "      quality_raw  quality_binary quality_cut\n",
      "3103            1               1         bad\n",
      "1419            7               1       great\n",
      "4761            6               0       great\n",
      "4690            6               0       great\n",
      "4032            5               0          ok\n",
      "1297            7               1       great\n",
      "1773            6               0       great\n",
      "5584            5               0          ok\n",
      "561             5               0          ok\n",
      "5946            6               0       great\n",
      "1891            5               0          ok\n",
      "2264            6               0       great\n",
      "6485            6               0       great\n",
      "217             5               0          ok\n",
      "230             4               0          ok\n",
      "2168            7               1       great\n",
      "1400            7               1       great\n",
      "4355            6               0       great\n",
      "4697            7               1       great\n",
      "4295            5               0          ok\n",
      "\n",
      "bad       1\n",
      "ok       21\n",
      "great    28\n",
      "Name: quality_cut, dtype: int64\n"
     ]
    }
   ],
   "source": [
    "# We can start with simply asking to put into 3 distinct bins\n",
    "bins = pd.cut(wine_small.quality_raw, bins=3, labels=[\"bad\", \"ok\", \"great\"], retbins=True)\n",
    "\n",
    "# Note we are setting retbins to true so we can see what the calculated bins are.\n",
    "# This means that 'bins' is a tuple, the first element is the bins array, the second is the bin limits\n",
    "print(bins[0].head(5)) # Print the bin of the first 5 entries\n",
    "print()\n",
    "print(\"The bin limits were: \\n\")\n",
    "print(bins[1])\n",
    "wine_small[\"quality_cut\"] = bins[0] #We can assign the bins back to the dataframe\n",
    "print()\n",
    "print(wine_small.iloc[:,12:15].head(20)) # See our column. Just taking last columns and head of 20.\n",
    "\n",
    "# We can also check the value counts as well\n",
    "print()\n",
    "print(wine_small.quality_cut.value_counts().sort_index()) #Compare this to above shows us what was put into what category"
   ]
  },
  {
   "cell_type": "code",
   "execution_count": 79,
   "metadata": {},
   "outputs": [
    {
     "name": "stdout",
     "output_type": "stream",
     "text": [
      "\n",
      "\n",
      "      quality_raw  quality_binary quality_cut quality_cut_2\n",
      "3103            1               1         bad           NaN\n",
      "1419            7               1       great            ok\n",
      "4761            6               0       great            ok\n",
      "4690            6               0       great            ok\n",
      "4032            5               0          ok           bad\n",
      "1297            7               1       great            ok\n",
      "1773            6               0       great            ok\n",
      "5584            5               0          ok           bad\n",
      "561             5               0          ok           bad\n",
      "5946            6               0       great            ok\n",
      "\n",
      "bad      21\n",
      "ok       26\n",
      "great     2\n",
      "Name: quality_cut_2, dtype: int64\n"
     ]
    }
   ],
   "source": [
    "#Now let us set the bins explicitly\n",
    "bins2 = pd.cut(wine_small.quality_raw, bins=[3,5,7, np.inf], labels=[\"bad\", \"ok\", \"great\"])\n",
    "# Note we do not need retbins since we set the bins. \n",
    "\n",
    "# Also note that the default ('right' parameter) is to include the rightmost value in that bin\n",
    "bins2.head(5)\n",
    "print()\n",
    "wine_small[\"quality_cut_2\"] = bins2 #We can assign the bins back to the dataframe\n",
    "print()\n",
    "print(wine_small.iloc[:,12:].head(10))\n",
    "\n",
    "# We can also check the value counts as well\n",
    "print()\n",
    "print(wine_small.quality_cut_2.value_counts().sort_index()) #Compare this to above shows us what was put into what category"
   ]
  },
  {
   "cell_type": "markdown",
   "metadata": {},
   "source": [
    "Try setting an extreme value here and how that affects the bins. Run the cell below then go above, rerun all the cells in this section (AFTER the sampling)"
   ]
  },
  {
   "cell_type": "code",
   "execution_count": 77,
   "metadata": {},
   "outputs": [],
   "source": [
    "## Set an extreme value to see the effects on the bins\n",
    "wine_small.iloc[0,-4] = 1"
   ]
  },
  {
   "cell_type": "markdown",
   "metadata": {},
   "source": [
    "We notice some important insights from using the extreme value:\n",
    "* When we set our own bins above, this simply drags down the bin limits, but all are included\n",
    "* When we set our own bins and have a first bin value higher than the extreme there is a NaN value"
   ]
  },
  {
   "cell_type": "markdown",
   "metadata": {
    "toc-hr-collapsed": true
   },
   "source": [
    "### 3.1.2 QCut"
   ]
  },
  {
   "cell_type": "markdown",
   "metadata": {},
   "source": [
    "Whilst cut sets bin widths to be even with respect to the **values of the column**, qcut sets bin widths to have an **equal number of rows in each bin**."
   ]
  },
  {
   "cell_type": "code",
   "execution_count": 80,
   "metadata": {},
   "outputs": [
    {
     "name": "stdout",
     "output_type": "stream",
     "text": [
      "3103      bad\n",
      "1419    great\n",
      "4761       ok\n",
      "4690       ok\n",
      "4032      bad\n",
      "Name: quality_raw, dtype: category\n",
      "Categories (3, object): [bad < ok < great]\n",
      "\n",
      " The bin edges were: \n",
      "\n",
      "[1. 5. 6. 8.]\n",
      "      quality_raw  quality_binary quality_cut quality_cut_2 bins_qcut\n",
      "3103            1               1         bad           NaN       bad\n",
      "1419            7               1       great            ok     great\n",
      "4761            6               0       great            ok        ok\n",
      "4690            6               0       great            ok        ok\n",
      "4032            5               0          ok           bad       bad\n",
      "1297            7               1       great            ok     great\n",
      "1773            6               0       great            ok        ok\n",
      "5584            5               0          ok           bad       bad\n",
      "561             5               0          ok           bad       bad\n",
      "5946            6               0       great            ok        ok\n",
      "\n",
      "bad      22\n",
      "ok       16\n",
      "great    12\n",
      "Name: bins_qcut, dtype: int64\n"
     ]
    }
   ],
   "source": [
    "# We can ask for 3 qcuts and see how this affects things\n",
    "bins_qcut = pd.qcut(wine_small.quality_raw, q=3, labels=[\"bad\", \"ok\", \"great\"], retbins=True)\n",
    "print(bins_qcut[0].head(5))\n",
    "print(\"\\n The bin edges were: \\n\")\n",
    "print(bins_qcut[1])\n",
    "wine_small[\"bins_qcut\"] = bins_qcut[0]\n",
    "print(wine_small.iloc[:,12:].head(10))\n",
    "\n",
    "# Now the value counts should be more interesting\n",
    "print()\n",
    "print(wine_small.bins_qcut.value_counts().sort_index())\n",
    "# Note that they are not quite even, this is because when values are equal they are given the same label"
   ]
  },
  {
   "cell_type": "code",
   "execution_count": 81,
   "metadata": {},
   "outputs": [
    {
     "name": "stdout",
     "output_type": "stream",
     "text": [
      "Bin limits: \n",
      "\n",
      "[  207.   23867.75 52254.5  75530.   99714.  ]\n",
      "\n",
      "Quartiles:\n",
      "1st    125\n",
      "2nd    125\n",
      "3rd    125\n",
      "4th    125\n",
      "dtype: int64\n"
     ]
    }
   ],
   "source": [
    "# However with enough random, different numbers, this works better\n",
    "np.random.seed(42)\n",
    "\n",
    "y = pd.Series(np.random.randint(low=1, high=100000, size=500))\n",
    "quartiles = pd.qcut(y, 4, labels=['1st', '2nd', '3rd', '4th'], retbins=True)\n",
    "\n",
    "print(\"Bin limits: \\n\")\n",
    "print(quartiles[1])\n",
    "print()\n",
    "print('Quartiles:')\n",
    "print(quartiles[0].value_counts(sort=False))"
   ]
  },
  {
   "cell_type": "markdown",
   "metadata": {
    "toc-hr-collapsed": true
   },
   "source": [
    "## 3.2 Joining Dfs (Merge, concat)"
   ]
  },
  {
   "cell_type": "markdown",
   "metadata": {},
   "source": [
    "Two useful functions are those related to joining dfs together. Concat and merge have some distinct differences:\n",
    "\n",
    "* Concat is just putting on df on top (or next to) another to merge. \n",
    "    * You need to therefore be sure that columns/rows line up (**ORDERED**)\n",
    "* Merge is a SQL-like operation that allows for using a key\n",
    "\n",
    "There is also 'append' for simply adding more rows, though merge and concat can be used for this as well\n",
    "\n",
    "Additionally there is a 'join' option which performs a merge that defaults to joining on indices. "
   ]
  },
  {
   "cell_type": "markdown",
   "metadata": {
    "toc-hr-collapsed": true
   },
   "source": [
    "### 3.2.1 Concat"
   ]
  },
  {
   "cell_type": "code",
   "execution_count": 83,
   "metadata": {},
   "outputs": [],
   "source": [
    "# Here is a simple example\n",
    "df1 = pd.DataFrame({'A': ['A0', 'A1', 'A2', 'A3'],\n",
    "                     'B': ['B0', 'B1', 'B2', 'B3']})\n",
    "\n",
    "df2 = pd.DataFrame({'A': ['A4', 'A5', 'A6', 'A7'],\n",
    "                     'B': ['B4', 'B5', 'B6', 'B7']})\n",
    "\n",
    "dfs = [df1,df2]\n",
    "result1 = pd.concat(dfs) #Notice how we need to feed in a list, not individual dfs ('iterable')\n",
    "\n",
    "# We can also reset the index using 'ignore_index'\n",
    "result2 = pd.concat(dfs, ignore_index=True)\n",
    "\n"
   ]
  },
  {
   "cell_type": "code",
   "execution_count": 84,
   "metadata": {},
   "outputs": [
    {
     "name": "stdout",
     "output_type": "stream",
     "text": [
      "    A   B\n",
      "0  A0  B0\n",
      "1  A1  B1\n",
      "2  A2  B2\n",
      "3  A3  B3\n",
      "0  A4  B4\n",
      "1  A5  B5\n",
      "2  A6  B6\n",
      "3  A7  B7\n",
      "    A   B\n",
      "0  A0  B0\n",
      "1  A1  B1\n",
      "2  A2  B2\n",
      "3  A3  B3\n",
      "4  A4  B4\n",
      "5  A5  B5\n",
      "6  A6  B6\n",
      "7  A7  B7\n"
     ]
    }
   ],
   "source": [
    "print(result1)\n",
    "print(result2)"
   ]
  },
  {
   "cell_type": "code",
   "execution_count": 85,
   "metadata": {},
   "outputs": [],
   "source": [
    "# We could also set labels for our individual parts to make them easy to pull out later\n",
    "result3 = pd.concat(dfs, keys=(\"FIRST\", \"SECOND\"))\n",
    "result3_second = result3.loc[\"SECOND\"]"
   ]
  },
  {
   "cell_type": "code",
   "execution_count": 86,
   "metadata": {},
   "outputs": [
    {
     "data": {
      "text/html": [
       "<style  type=\"text/css\" >\n",
       "</style>  \n",
       "<table id=\"T_ee1b93fa_4648_11e9_b443_8c859067c728\" style='display:inline;margin:2vw'><caption>Adding Keys</caption> \n",
       "<thead>    <tr> \n",
       "        <th class=\"blank\" ></th> \n",
       "        <th class=\"blank level0\" ></th> \n",
       "        <th class=\"col_heading level0 col0\" >A</th> \n",
       "        <th class=\"col_heading level0 col1\" >B</th> \n",
       "    </tr></thead> \n",
       "<tbody>    <tr> \n",
       "        <th id=\"T_ee1b93fa_4648_11e9_b443_8c859067c728level0_row0\" class=\"row_heading level0 row0\" rowspan=4>FIRST</th> \n",
       "        <th id=\"T_ee1b93fa_4648_11e9_b443_8c859067c728level1_row0\" class=\"row_heading level1 row0\" >0</th> \n",
       "        <td id=\"T_ee1b93fa_4648_11e9_b443_8c859067c728row0_col0\" class=\"data row0 col0\" >A0</td> \n",
       "        <td id=\"T_ee1b93fa_4648_11e9_b443_8c859067c728row0_col1\" class=\"data row0 col1\" >B0</td> \n",
       "    </tr>    <tr> \n",
       "        <th id=\"T_ee1b93fa_4648_11e9_b443_8c859067c728level1_row1\" class=\"row_heading level1 row1\" >1</th> \n",
       "        <td id=\"T_ee1b93fa_4648_11e9_b443_8c859067c728row1_col0\" class=\"data row1 col0\" >A1</td> \n",
       "        <td id=\"T_ee1b93fa_4648_11e9_b443_8c859067c728row1_col1\" class=\"data row1 col1\" >B1</td> \n",
       "    </tr>    <tr> \n",
       "        <th id=\"T_ee1b93fa_4648_11e9_b443_8c859067c728level1_row2\" class=\"row_heading level1 row2\" >2</th> \n",
       "        <td id=\"T_ee1b93fa_4648_11e9_b443_8c859067c728row2_col0\" class=\"data row2 col0\" >A2</td> \n",
       "        <td id=\"T_ee1b93fa_4648_11e9_b443_8c859067c728row2_col1\" class=\"data row2 col1\" >B2</td> \n",
       "    </tr>    <tr> \n",
       "        <th id=\"T_ee1b93fa_4648_11e9_b443_8c859067c728level1_row3\" class=\"row_heading level1 row3\" >3</th> \n",
       "        <td id=\"T_ee1b93fa_4648_11e9_b443_8c859067c728row3_col0\" class=\"data row3 col0\" >A3</td> \n",
       "        <td id=\"T_ee1b93fa_4648_11e9_b443_8c859067c728row3_col1\" class=\"data row3 col1\" >B3</td> \n",
       "    </tr>    <tr> \n",
       "        <th id=\"T_ee1b93fa_4648_11e9_b443_8c859067c728level0_row4\" class=\"row_heading level0 row4\" rowspan=4>SECOND</th> \n",
       "        <th id=\"T_ee1b93fa_4648_11e9_b443_8c859067c728level1_row4\" class=\"row_heading level1 row4\" >0</th> \n",
       "        <td id=\"T_ee1b93fa_4648_11e9_b443_8c859067c728row4_col0\" class=\"data row4 col0\" >A4</td> \n",
       "        <td id=\"T_ee1b93fa_4648_11e9_b443_8c859067c728row4_col1\" class=\"data row4 col1\" >B4</td> \n",
       "    </tr>    <tr> \n",
       "        <th id=\"T_ee1b93fa_4648_11e9_b443_8c859067c728level1_row5\" class=\"row_heading level1 row5\" >1</th> \n",
       "        <td id=\"T_ee1b93fa_4648_11e9_b443_8c859067c728row5_col0\" class=\"data row5 col0\" >A5</td> \n",
       "        <td id=\"T_ee1b93fa_4648_11e9_b443_8c859067c728row5_col1\" class=\"data row5 col1\" >B5</td> \n",
       "    </tr>    <tr> \n",
       "        <th id=\"T_ee1b93fa_4648_11e9_b443_8c859067c728level1_row6\" class=\"row_heading level1 row6\" >2</th> \n",
       "        <td id=\"T_ee1b93fa_4648_11e9_b443_8c859067c728row6_col0\" class=\"data row6 col0\" >A6</td> \n",
       "        <td id=\"T_ee1b93fa_4648_11e9_b443_8c859067c728row6_col1\" class=\"data row6 col1\" >B6</td> \n",
       "    </tr>    <tr> \n",
       "        <th id=\"T_ee1b93fa_4648_11e9_b443_8c859067c728level1_row7\" class=\"row_heading level1 row7\" >3</th> \n",
       "        <td id=\"T_ee1b93fa_4648_11e9_b443_8c859067c728row7_col0\" class=\"data row7 col0\" >A7</td> \n",
       "        <td id=\"T_ee1b93fa_4648_11e9_b443_8c859067c728row7_col1\" class=\"data row7 col1\" >B7</td> \n",
       "    </tr></tbody> \n",
       "</table> <style  type=\"text/css\" >\n",
       "</style>  \n",
       "<table id=\"T_ee1ef47a_4648_11e9_a1ee_8c859067c728\" style='display:inline'><caption>Original second df</caption> \n",
       "<thead>    <tr> \n",
       "        <th class=\"blank level0\" ></th> \n",
       "        <th class=\"col_heading level0 col0\" >A</th> \n",
       "        <th class=\"col_heading level0 col1\" >B</th> \n",
       "    </tr></thead> \n",
       "<tbody>    <tr> \n",
       "        <th id=\"T_ee1ef47a_4648_11e9_a1ee_8c859067c728level0_row0\" class=\"row_heading level0 row0\" >0</th> \n",
       "        <td id=\"T_ee1ef47a_4648_11e9_a1ee_8c859067c728row0_col0\" class=\"data row0 col0\" >A4</td> \n",
       "        <td id=\"T_ee1ef47a_4648_11e9_a1ee_8c859067c728row0_col1\" class=\"data row0 col1\" >B4</td> \n",
       "    </tr>    <tr> \n",
       "        <th id=\"T_ee1ef47a_4648_11e9_a1ee_8c859067c728level0_row1\" class=\"row_heading level0 row1\" >1</th> \n",
       "        <td id=\"T_ee1ef47a_4648_11e9_a1ee_8c859067c728row1_col0\" class=\"data row1 col0\" >A5</td> \n",
       "        <td id=\"T_ee1ef47a_4648_11e9_a1ee_8c859067c728row1_col1\" class=\"data row1 col1\" >B5</td> \n",
       "    </tr>    <tr> \n",
       "        <th id=\"T_ee1ef47a_4648_11e9_a1ee_8c859067c728level0_row2\" class=\"row_heading level0 row2\" >2</th> \n",
       "        <td id=\"T_ee1ef47a_4648_11e9_a1ee_8c859067c728row2_col0\" class=\"data row2 col0\" >A6</td> \n",
       "        <td id=\"T_ee1ef47a_4648_11e9_a1ee_8c859067c728row2_col1\" class=\"data row2 col1\" >B6</td> \n",
       "    </tr>    <tr> \n",
       "        <th id=\"T_ee1ef47a_4648_11e9_a1ee_8c859067c728level0_row3\" class=\"row_heading level0 row3\" >3</th> \n",
       "        <td id=\"T_ee1ef47a_4648_11e9_a1ee_8c859067c728row3_col0\" class=\"data row3 col0\" >A7</td> \n",
       "        <td id=\"T_ee1ef47a_4648_11e9_a1ee_8c859067c728row3_col1\" class=\"data row3 col1\" >B7</td> \n",
       "    </tr></tbody> \n",
       "</table> "
      ]
     },
     "metadata": {},
     "output_type": "display_data"
    }
   ],
   "source": [
    "df1_styler = result3.style.set_table_attributes(\"style='display:inline;margin:2vw'\").set_caption('Adding Keys')\n",
    "df2_styler = result3_second.style.set_table_attributes(\"style='display:inline'\").set_caption('Original second df')\n",
    "\n",
    "display_html(df1_styler._repr_html_()+df2_styler._repr_html_(), raw=True)"
   ]
  },
  {
   "cell_type": "code",
   "execution_count": 87,
   "metadata": {},
   "outputs": [
    {
     "data": {
      "text/html": [
       "<div>\n",
       "<style scoped>\n",
       "    .dataframe tbody tr th:only-of-type {\n",
       "        vertical-align: middle;\n",
       "    }\n",
       "\n",
       "    .dataframe tbody tr th {\n",
       "        vertical-align: top;\n",
       "    }\n",
       "\n",
       "    .dataframe thead th {\n",
       "        text-align: right;\n",
       "    }\n",
       "</style>\n",
       "<table border=\"1\" class=\"dataframe\">\n",
       "  <thead>\n",
       "    <tr style=\"text-align: right;\">\n",
       "      <th></th>\n",
       "      <th>A</th>\n",
       "      <th>B</th>\n",
       "    </tr>\n",
       "  </thead>\n",
       "  <tbody>\n",
       "    <tr>\n",
       "      <th>0</th>\n",
       "      <td>A0</td>\n",
       "      <td>B0</td>\n",
       "    </tr>\n",
       "    <tr>\n",
       "      <th>1</th>\n",
       "      <td>A1</td>\n",
       "      <td>B1</td>\n",
       "    </tr>\n",
       "    <tr>\n",
       "      <th>2</th>\n",
       "      <td>A2</td>\n",
       "      <td>B2</td>\n",
       "    </tr>\n",
       "    <tr>\n",
       "      <th>3</th>\n",
       "      <td>A3</td>\n",
       "      <td>B3</td>\n",
       "    </tr>\n",
       "    <tr>\n",
       "      <th>0</th>\n",
       "      <td>A4</td>\n",
       "      <td>B4</td>\n",
       "    </tr>\n",
       "    <tr>\n",
       "      <th>1</th>\n",
       "      <td>A5</td>\n",
       "      <td>B5</td>\n",
       "    </tr>\n",
       "    <tr>\n",
       "      <th>2</th>\n",
       "      <td>A6</td>\n",
       "      <td>B6</td>\n",
       "    </tr>\n",
       "    <tr>\n",
       "      <th>3</th>\n",
       "      <td>A7</td>\n",
       "      <td>B7</td>\n",
       "    </tr>\n",
       "  </tbody>\n",
       "</table>\n",
       "</div>"
      ],
      "text/plain": [
       "    A   B\n",
       "0  A0  B0\n",
       "1  A1  B1\n",
       "2  A2  B2\n",
       "3  A3  B3\n",
       "0  A4  B4\n",
       "1  A5  B5\n",
       "2  A6  B6\n",
       "3  A7  B7"
      ]
     },
     "execution_count": 87,
     "metadata": {},
     "output_type": "execute_result"
    }
   ],
   "source": [
    "# Append predates concat and could also be used with less options\n",
    "df_app = df1.append(df2)\n",
    "df_app"
   ]
  },
  {
   "cell_type": "code",
   "execution_count": 88,
   "metadata": {},
   "outputs": [
    {
     "data": {
      "text/html": [
       "<div>\n",
       "<style scoped>\n",
       "    .dataframe tbody tr th:only-of-type {\n",
       "        vertical-align: middle;\n",
       "    }\n",
       "\n",
       "    .dataframe tbody tr th {\n",
       "        vertical-align: top;\n",
       "    }\n",
       "\n",
       "    .dataframe thead th {\n",
       "        text-align: right;\n",
       "    }\n",
       "</style>\n",
       "<table border=\"1\" class=\"dataframe\">\n",
       "  <thead>\n",
       "    <tr style=\"text-align: right;\">\n",
       "      <th></th>\n",
       "      <th>A</th>\n",
       "      <th>B</th>\n",
       "      <th>X</th>\n",
       "    </tr>\n",
       "  </thead>\n",
       "  <tbody>\n",
       "    <tr>\n",
       "      <th>0</th>\n",
       "      <td>A0</td>\n",
       "      <td>B0</td>\n",
       "      <td>X0</td>\n",
       "    </tr>\n",
       "    <tr>\n",
       "      <th>1</th>\n",
       "      <td>A1</td>\n",
       "      <td>B1</td>\n",
       "      <td>X1</td>\n",
       "    </tr>\n",
       "    <tr>\n",
       "      <th>2</th>\n",
       "      <td>A2</td>\n",
       "      <td>B2</td>\n",
       "      <td>X2</td>\n",
       "    </tr>\n",
       "    <tr>\n",
       "      <th>3</th>\n",
       "      <td>A3</td>\n",
       "      <td>B3</td>\n",
       "      <td>NaN</td>\n",
       "    </tr>\n",
       "  </tbody>\n",
       "</table>\n",
       "</div>"
      ],
      "text/plain": [
       "    A   B    X\n",
       "0  A0  B0   X0\n",
       "1  A1  B1   X1\n",
       "2  A2  B2   X2\n",
       "3  A3  B3  NaN"
      ]
     },
     "execution_count": 88,
     "metadata": {},
     "output_type": "execute_result"
    }
   ],
   "source": [
    "# We can concat different numbers of dimensions\n",
    "s1 = pd.Series(['X0', 'X1', 'X2'], name='X')\n",
    "\n",
    "df_dims = pd.concat([df1, s1], axis=1)\n",
    "\n",
    "df_dims #Notice the NaN where no value present"
   ]
  },
  {
   "cell_type": "markdown",
   "metadata": {
    "toc-hr-collapsed": true
   },
   "source": [
    "### 3.2.2 Merge"
   ]
  },
  {
   "cell_type": "markdown",
   "metadata": {},
   "source": [
    "This has the options of left, right, outer, inner which align with SQL joins of LEFT OUTER, RIGHT OUTER, FULL OUTER and INNER joins. \n",
    "\n",
    "This example used is from https://chrisalbon.com/python/data_wrangling/pandas_join_merge_dataframe/\n",
    "\n",
    "Another good one seems to be https://jakevdp.github.io/PythonDataScienceHandbook/03.07-merge-and-join.html"
   ]
  },
  {
   "cell_type": "markdown",
   "metadata": {},
   "source": [
    "There is also a useful argument **suffixes** for adding a suffix to columns when there are overlapping column names."
   ]
  },
  {
   "cell_type": "code",
   "execution_count": 89,
   "metadata": {},
   "outputs": [],
   "source": [
    "#First we make some dfs of exam marks\n",
    "raw_data = {\n",
    "        'subject_id': ['1', '2', '3', '4', '5', '4', '5', '6', '7', '8'],\n",
    "        'first_name': ['Alex', 'Amy', 'Allen', 'Alice', 'Ayoung','Billy', 'Brian', 'Bran', 'Bryce', 'Betty'], \n",
    "        'last_name': ['Anderson', 'Ackerman', 'Ali', 'Aoni', 'Atiches','Bonder', 'Black', 'Balwner', 'Brice', 'Btisan']}\n",
    "df_a = pd.DataFrame(raw_data, columns = ['subject_id', 'first_name', 'last_name'])\n",
    "raw_data = {\n",
    "        'subject_id': ['1', '2', '3', '4', '5', '7', '8', '9', '10', '11'],\n",
    "        'test_id': [51, 15, 15, 61, 16, 14, 15, 1, 61, 16]}\n",
    "df_b = pd.DataFrame(raw_data, columns = ['subject_id','test_id'])"
   ]
  },
  {
   "cell_type": "code",
   "execution_count": 90,
   "metadata": {},
   "outputs": [
    {
     "data": {
      "text/html": [
       "<style  type=\"text/css\" >\n",
       "</style>  \n",
       "<table id=\"T_017045cc_4649_11e9_b178_8c859067c728\" style='display:inline;margin:2vw'><caption>Student Details</caption> \n",
       "<thead>    <tr> \n",
       "        <th class=\"blank level0\" ></th> \n",
       "        <th class=\"col_heading level0 col0\" >subject_id</th> \n",
       "        <th class=\"col_heading level0 col1\" >first_name</th> \n",
       "        <th class=\"col_heading level0 col2\" >last_name</th> \n",
       "    </tr></thead> \n",
       "<tbody>    <tr> \n",
       "        <th id=\"T_017045cc_4649_11e9_b178_8c859067c728level0_row0\" class=\"row_heading level0 row0\" >0</th> \n",
       "        <td id=\"T_017045cc_4649_11e9_b178_8c859067c728row0_col0\" class=\"data row0 col0\" >1</td> \n",
       "        <td id=\"T_017045cc_4649_11e9_b178_8c859067c728row0_col1\" class=\"data row0 col1\" >Alex</td> \n",
       "        <td id=\"T_017045cc_4649_11e9_b178_8c859067c728row0_col2\" class=\"data row0 col2\" >Anderson</td> \n",
       "    </tr>    <tr> \n",
       "        <th id=\"T_017045cc_4649_11e9_b178_8c859067c728level0_row1\" class=\"row_heading level0 row1\" >1</th> \n",
       "        <td id=\"T_017045cc_4649_11e9_b178_8c859067c728row1_col0\" class=\"data row1 col0\" >2</td> \n",
       "        <td id=\"T_017045cc_4649_11e9_b178_8c859067c728row1_col1\" class=\"data row1 col1\" >Amy</td> \n",
       "        <td id=\"T_017045cc_4649_11e9_b178_8c859067c728row1_col2\" class=\"data row1 col2\" >Ackerman</td> \n",
       "    </tr>    <tr> \n",
       "        <th id=\"T_017045cc_4649_11e9_b178_8c859067c728level0_row2\" class=\"row_heading level0 row2\" >2</th> \n",
       "        <td id=\"T_017045cc_4649_11e9_b178_8c859067c728row2_col0\" class=\"data row2 col0\" >3</td> \n",
       "        <td id=\"T_017045cc_4649_11e9_b178_8c859067c728row2_col1\" class=\"data row2 col1\" >Allen</td> \n",
       "        <td id=\"T_017045cc_4649_11e9_b178_8c859067c728row2_col2\" class=\"data row2 col2\" >Ali</td> \n",
       "    </tr>    <tr> \n",
       "        <th id=\"T_017045cc_4649_11e9_b178_8c859067c728level0_row3\" class=\"row_heading level0 row3\" >3</th> \n",
       "        <td id=\"T_017045cc_4649_11e9_b178_8c859067c728row3_col0\" class=\"data row3 col0\" >4</td> \n",
       "        <td id=\"T_017045cc_4649_11e9_b178_8c859067c728row3_col1\" class=\"data row3 col1\" >Alice</td> \n",
       "        <td id=\"T_017045cc_4649_11e9_b178_8c859067c728row3_col2\" class=\"data row3 col2\" >Aoni</td> \n",
       "    </tr>    <tr> \n",
       "        <th id=\"T_017045cc_4649_11e9_b178_8c859067c728level0_row4\" class=\"row_heading level0 row4\" >4</th> \n",
       "        <td id=\"T_017045cc_4649_11e9_b178_8c859067c728row4_col0\" class=\"data row4 col0\" >5</td> \n",
       "        <td id=\"T_017045cc_4649_11e9_b178_8c859067c728row4_col1\" class=\"data row4 col1\" >Ayoung</td> \n",
       "        <td id=\"T_017045cc_4649_11e9_b178_8c859067c728row4_col2\" class=\"data row4 col2\" >Atiches</td> \n",
       "    </tr>    <tr> \n",
       "        <th id=\"T_017045cc_4649_11e9_b178_8c859067c728level0_row5\" class=\"row_heading level0 row5\" >5</th> \n",
       "        <td id=\"T_017045cc_4649_11e9_b178_8c859067c728row5_col0\" class=\"data row5 col0\" >4</td> \n",
       "        <td id=\"T_017045cc_4649_11e9_b178_8c859067c728row5_col1\" class=\"data row5 col1\" >Billy</td> \n",
       "        <td id=\"T_017045cc_4649_11e9_b178_8c859067c728row5_col2\" class=\"data row5 col2\" >Bonder</td> \n",
       "    </tr>    <tr> \n",
       "        <th id=\"T_017045cc_4649_11e9_b178_8c859067c728level0_row6\" class=\"row_heading level0 row6\" >6</th> \n",
       "        <td id=\"T_017045cc_4649_11e9_b178_8c859067c728row6_col0\" class=\"data row6 col0\" >5</td> \n",
       "        <td id=\"T_017045cc_4649_11e9_b178_8c859067c728row6_col1\" class=\"data row6 col1\" >Brian</td> \n",
       "        <td id=\"T_017045cc_4649_11e9_b178_8c859067c728row6_col2\" class=\"data row6 col2\" >Black</td> \n",
       "    </tr>    <tr> \n",
       "        <th id=\"T_017045cc_4649_11e9_b178_8c859067c728level0_row7\" class=\"row_heading level0 row7\" >7</th> \n",
       "        <td id=\"T_017045cc_4649_11e9_b178_8c859067c728row7_col0\" class=\"data row7 col0\" >6</td> \n",
       "        <td id=\"T_017045cc_4649_11e9_b178_8c859067c728row7_col1\" class=\"data row7 col1\" >Bran</td> \n",
       "        <td id=\"T_017045cc_4649_11e9_b178_8c859067c728row7_col2\" class=\"data row7 col2\" >Balwner</td> \n",
       "    </tr>    <tr> \n",
       "        <th id=\"T_017045cc_4649_11e9_b178_8c859067c728level0_row8\" class=\"row_heading level0 row8\" >8</th> \n",
       "        <td id=\"T_017045cc_4649_11e9_b178_8c859067c728row8_col0\" class=\"data row8 col0\" >7</td> \n",
       "        <td id=\"T_017045cc_4649_11e9_b178_8c859067c728row8_col1\" class=\"data row8 col1\" >Bryce</td> \n",
       "        <td id=\"T_017045cc_4649_11e9_b178_8c859067c728row8_col2\" class=\"data row8 col2\" >Brice</td> \n",
       "    </tr>    <tr> \n",
       "        <th id=\"T_017045cc_4649_11e9_b178_8c859067c728level0_row9\" class=\"row_heading level0 row9\" >9</th> \n",
       "        <td id=\"T_017045cc_4649_11e9_b178_8c859067c728row9_col0\" class=\"data row9 col0\" >8</td> \n",
       "        <td id=\"T_017045cc_4649_11e9_b178_8c859067c728row9_col1\" class=\"data row9 col1\" >Betty</td> \n",
       "        <td id=\"T_017045cc_4649_11e9_b178_8c859067c728row9_col2\" class=\"data row9 col2\" >Btisan</td> \n",
       "    </tr></tbody> \n",
       "</table> <style  type=\"text/css\" >\n",
       "</style>  \n",
       "<table id=\"T_0170a4d8_4649_11e9_88fa_8c859067c728\" style='display:inline;margin:2vw'><caption>Exam Marks</caption> \n",
       "<thead>    <tr> \n",
       "        <th class=\"blank level0\" ></th> \n",
       "        <th class=\"col_heading level0 col0\" >subject_id</th> \n",
       "        <th class=\"col_heading level0 col1\" >test_id</th> \n",
       "    </tr></thead> \n",
       "<tbody>    <tr> \n",
       "        <th id=\"T_0170a4d8_4649_11e9_88fa_8c859067c728level0_row0\" class=\"row_heading level0 row0\" >0</th> \n",
       "        <td id=\"T_0170a4d8_4649_11e9_88fa_8c859067c728row0_col0\" class=\"data row0 col0\" >1</td> \n",
       "        <td id=\"T_0170a4d8_4649_11e9_88fa_8c859067c728row0_col1\" class=\"data row0 col1\" >51</td> \n",
       "    </tr>    <tr> \n",
       "        <th id=\"T_0170a4d8_4649_11e9_88fa_8c859067c728level0_row1\" class=\"row_heading level0 row1\" >1</th> \n",
       "        <td id=\"T_0170a4d8_4649_11e9_88fa_8c859067c728row1_col0\" class=\"data row1 col0\" >2</td> \n",
       "        <td id=\"T_0170a4d8_4649_11e9_88fa_8c859067c728row1_col1\" class=\"data row1 col1\" >15</td> \n",
       "    </tr>    <tr> \n",
       "        <th id=\"T_0170a4d8_4649_11e9_88fa_8c859067c728level0_row2\" class=\"row_heading level0 row2\" >2</th> \n",
       "        <td id=\"T_0170a4d8_4649_11e9_88fa_8c859067c728row2_col0\" class=\"data row2 col0\" >3</td> \n",
       "        <td id=\"T_0170a4d8_4649_11e9_88fa_8c859067c728row2_col1\" class=\"data row2 col1\" >15</td> \n",
       "    </tr>    <tr> \n",
       "        <th id=\"T_0170a4d8_4649_11e9_88fa_8c859067c728level0_row3\" class=\"row_heading level0 row3\" >3</th> \n",
       "        <td id=\"T_0170a4d8_4649_11e9_88fa_8c859067c728row3_col0\" class=\"data row3 col0\" >4</td> \n",
       "        <td id=\"T_0170a4d8_4649_11e9_88fa_8c859067c728row3_col1\" class=\"data row3 col1\" >61</td> \n",
       "    </tr>    <tr> \n",
       "        <th id=\"T_0170a4d8_4649_11e9_88fa_8c859067c728level0_row4\" class=\"row_heading level0 row4\" >4</th> \n",
       "        <td id=\"T_0170a4d8_4649_11e9_88fa_8c859067c728row4_col0\" class=\"data row4 col0\" >5</td> \n",
       "        <td id=\"T_0170a4d8_4649_11e9_88fa_8c859067c728row4_col1\" class=\"data row4 col1\" >16</td> \n",
       "    </tr>    <tr> \n",
       "        <th id=\"T_0170a4d8_4649_11e9_88fa_8c859067c728level0_row5\" class=\"row_heading level0 row5\" >5</th> \n",
       "        <td id=\"T_0170a4d8_4649_11e9_88fa_8c859067c728row5_col0\" class=\"data row5 col0\" >7</td> \n",
       "        <td id=\"T_0170a4d8_4649_11e9_88fa_8c859067c728row5_col1\" class=\"data row5 col1\" >14</td> \n",
       "    </tr>    <tr> \n",
       "        <th id=\"T_0170a4d8_4649_11e9_88fa_8c859067c728level0_row6\" class=\"row_heading level0 row6\" >6</th> \n",
       "        <td id=\"T_0170a4d8_4649_11e9_88fa_8c859067c728row6_col0\" class=\"data row6 col0\" >8</td> \n",
       "        <td id=\"T_0170a4d8_4649_11e9_88fa_8c859067c728row6_col1\" class=\"data row6 col1\" >15</td> \n",
       "    </tr>    <tr> \n",
       "        <th id=\"T_0170a4d8_4649_11e9_88fa_8c859067c728level0_row7\" class=\"row_heading level0 row7\" >7</th> \n",
       "        <td id=\"T_0170a4d8_4649_11e9_88fa_8c859067c728row7_col0\" class=\"data row7 col0\" >9</td> \n",
       "        <td id=\"T_0170a4d8_4649_11e9_88fa_8c859067c728row7_col1\" class=\"data row7 col1\" >1</td> \n",
       "    </tr>    <tr> \n",
       "        <th id=\"T_0170a4d8_4649_11e9_88fa_8c859067c728level0_row8\" class=\"row_heading level0 row8\" >8</th> \n",
       "        <td id=\"T_0170a4d8_4649_11e9_88fa_8c859067c728row8_col0\" class=\"data row8 col0\" >10</td> \n",
       "        <td id=\"T_0170a4d8_4649_11e9_88fa_8c859067c728row8_col1\" class=\"data row8 col1\" >61</td> \n",
       "    </tr>    <tr> \n",
       "        <th id=\"T_0170a4d8_4649_11e9_88fa_8c859067c728level0_row9\" class=\"row_heading level0 row9\" >9</th> \n",
       "        <td id=\"T_0170a4d8_4649_11e9_88fa_8c859067c728row9_col0\" class=\"data row9 col0\" >11</td> \n",
       "        <td id=\"T_0170a4d8_4649_11e9_88fa_8c859067c728row9_col1\" class=\"data row9 col1\" >16</td> \n",
       "    </tr></tbody> \n",
       "</table> "
      ]
     },
     "metadata": {},
     "output_type": "display_data"
    }
   ],
   "source": [
    "df1_styler = df_a.style.set_table_attributes(\"style='display:inline;margin:2vw'\").set_caption('Student Details')\n",
    "df2_styler = df_b.style.set_table_attributes(\"style='display:inline;margin:2vw'\").set_caption('Exam Marks')\n",
    "\n",
    "display_html(df1_styler._repr_html_()+df2_styler._repr_html_(), raw=True)"
   ]
  },
  {
   "cell_type": "code",
   "execution_count": 91,
   "metadata": {},
   "outputs": [
    {
     "data": {
      "text/html": [
       "<div>\n",
       "<style scoped>\n",
       "    .dataframe tbody tr th:only-of-type {\n",
       "        vertical-align: middle;\n",
       "    }\n",
       "\n",
       "    .dataframe tbody tr th {\n",
       "        vertical-align: top;\n",
       "    }\n",
       "\n",
       "    .dataframe thead th {\n",
       "        text-align: right;\n",
       "    }\n",
       "</style>\n",
       "<table border=\"1\" class=\"dataframe\">\n",
       "  <thead>\n",
       "    <tr style=\"text-align: right;\">\n",
       "      <th></th>\n",
       "      <th>subject_id</th>\n",
       "      <th>first_name</th>\n",
       "      <th>last_name</th>\n",
       "      <th>test_id</th>\n",
       "    </tr>\n",
       "  </thead>\n",
       "  <tbody>\n",
       "    <tr>\n",
       "      <th>0</th>\n",
       "      <td>1</td>\n",
       "      <td>Alex</td>\n",
       "      <td>Anderson</td>\n",
       "      <td>51.0</td>\n",
       "    </tr>\n",
       "    <tr>\n",
       "      <th>1</th>\n",
       "      <td>2</td>\n",
       "      <td>Amy</td>\n",
       "      <td>Ackerman</td>\n",
       "      <td>15.0</td>\n",
       "    </tr>\n",
       "    <tr>\n",
       "      <th>2</th>\n",
       "      <td>3</td>\n",
       "      <td>Allen</td>\n",
       "      <td>Ali</td>\n",
       "      <td>15.0</td>\n",
       "    </tr>\n",
       "    <tr>\n",
       "      <th>3</th>\n",
       "      <td>4</td>\n",
       "      <td>Alice</td>\n",
       "      <td>Aoni</td>\n",
       "      <td>61.0</td>\n",
       "    </tr>\n",
       "    <tr>\n",
       "      <th>4</th>\n",
       "      <td>5</td>\n",
       "      <td>Ayoung</td>\n",
       "      <td>Atiches</td>\n",
       "      <td>16.0</td>\n",
       "    </tr>\n",
       "    <tr>\n",
       "      <th>5</th>\n",
       "      <td>4</td>\n",
       "      <td>Billy</td>\n",
       "      <td>Bonder</td>\n",
       "      <td>61.0</td>\n",
       "    </tr>\n",
       "    <tr>\n",
       "      <th>6</th>\n",
       "      <td>5</td>\n",
       "      <td>Brian</td>\n",
       "      <td>Black</td>\n",
       "      <td>16.0</td>\n",
       "    </tr>\n",
       "    <tr>\n",
       "      <th>7</th>\n",
       "      <td>6</td>\n",
       "      <td>Bran</td>\n",
       "      <td>Balwner</td>\n",
       "      <td>NaN</td>\n",
       "    </tr>\n",
       "    <tr>\n",
       "      <th>8</th>\n",
       "      <td>7</td>\n",
       "      <td>Bryce</td>\n",
       "      <td>Brice</td>\n",
       "      <td>14.0</td>\n",
       "    </tr>\n",
       "    <tr>\n",
       "      <th>9</th>\n",
       "      <td>8</td>\n",
       "      <td>Betty</td>\n",
       "      <td>Btisan</td>\n",
       "      <td>15.0</td>\n",
       "    </tr>\n",
       "  </tbody>\n",
       "</table>\n",
       "</div>"
      ],
      "text/plain": [
       "  subject_id first_name last_name  test_id\n",
       "0          1       Alex  Anderson     51.0\n",
       "1          2        Amy  Ackerman     15.0\n",
       "2          3      Allen       Ali     15.0\n",
       "3          4      Alice      Aoni     61.0\n",
       "4          5     Ayoung   Atiches     16.0\n",
       "5          4      Billy    Bonder     61.0\n",
       "6          5      Brian     Black     16.0\n",
       "7          6       Bran   Balwner      NaN\n",
       "8          7      Bryce     Brice     14.0\n",
       "9          8      Betty    Btisan     15.0"
      ]
     },
     "execution_count": 91,
     "metadata": {},
     "output_type": "execute_result"
    }
   ],
   "source": [
    "student_marks_df = df_a.merge(df_b, how='left', on='subject_id')\n",
    "student_marks_df"
   ]
  },
  {
   "cell_type": "markdown",
   "metadata": {
    "toc-hr-collapsed": true
   },
   "source": [
    "## 3.3 Sorting the df"
   ]
  },
  {
   "cell_type": "code",
   "execution_count": 92,
   "metadata": {},
   "outputs": [
    {
     "name": "stdout",
     "output_type": "stream",
     "text": [
      "         country  drives_right  cars_per_cap\n",
      "0  United States          True           809\n",
      "1      Australia         False           731\n",
      "2          Japan         False           588\n",
      "3          India         False            18\n",
      "4         Russia          True           200\n",
      "5        Morocco          True            70\n",
      "6          Egypt          True            45\n"
     ]
    }
   ],
   "source": [
    "# Here is a little toy dataset on cars\n",
    "names = ['United States', 'Australia', 'Japan', 'India', 'Russia', 'Morocco', 'Egypt']\n",
    "dr =  [True, False, False, False, True, True, True]\n",
    "cpc = [809, 731, 588, 18, 200, 70, 45]\n",
    "cars = pd.DataFrame({ 'country':names, 'drives_right':dr, 'cars_per_cap':cpc })\n",
    "print(cars)"
   ]
  },
  {
   "cell_type": "markdown",
   "metadata": {
    "toc-hr-collapsed": true
   },
   "source": [
    "### 3.3.1 Sorting an extracted series"
   ]
  },
  {
   "cell_type": "markdown",
   "metadata": {},
   "source": [
    "You can apply pythons base sorted() method directly to an extracted series object"
   ]
  },
  {
   "cell_type": "code",
   "execution_count": 93,
   "metadata": {},
   "outputs": [
    {
     "data": {
      "text/plain": [
       "[18, 45, 70, 200, 588, 731, 809]"
      ]
     },
     "execution_count": 93,
     "metadata": {},
     "output_type": "execute_result"
    }
   ],
   "source": [
    "sorted(cars[\"cars_per_cap\"])"
   ]
  },
  {
   "cell_type": "markdown",
   "metadata": {
    "toc-hr-collapsed": true
   },
   "source": [
    "### 5.2 Sorting on the df"
   ]
  },
  {
   "cell_type": "markdown",
   "metadata": {},
   "source": [
    "Note that when you sort_values() on a df this will still keep the index values. Hence to 'put it back' you can sort_index which will sort by the index.\n",
    "\n",
    "If we do not want this to be possible anymore, we can reset the index with reset_index()"
   ]
  },
  {
   "cell_type": "code",
   "execution_count": 94,
   "metadata": {},
   "outputs": [
    {
     "data": {
      "text/html": [
       "<div>\n",
       "<style scoped>\n",
       "    .dataframe tbody tr th:only-of-type {\n",
       "        vertical-align: middle;\n",
       "    }\n",
       "\n",
       "    .dataframe tbody tr th {\n",
       "        vertical-align: top;\n",
       "    }\n",
       "\n",
       "    .dataframe thead th {\n",
       "        text-align: right;\n",
       "    }\n",
       "</style>\n",
       "<table border=\"1\" class=\"dataframe\">\n",
       "  <thead>\n",
       "    <tr style=\"text-align: right;\">\n",
       "      <th></th>\n",
       "      <th>index</th>\n",
       "      <th>country</th>\n",
       "      <th>drives_right</th>\n",
       "      <th>cars_per_cap</th>\n",
       "    </tr>\n",
       "  </thead>\n",
       "  <tbody>\n",
       "    <tr>\n",
       "      <th>0</th>\n",
       "      <td>0</td>\n",
       "      <td>United States</td>\n",
       "      <td>True</td>\n",
       "      <td>809</td>\n",
       "    </tr>\n",
       "    <tr>\n",
       "      <th>1</th>\n",
       "      <td>1</td>\n",
       "      <td>Australia</td>\n",
       "      <td>False</td>\n",
       "      <td>731</td>\n",
       "    </tr>\n",
       "    <tr>\n",
       "      <th>2</th>\n",
       "      <td>2</td>\n",
       "      <td>Japan</td>\n",
       "      <td>False</td>\n",
       "      <td>588</td>\n",
       "    </tr>\n",
       "    <tr>\n",
       "      <th>3</th>\n",
       "      <td>3</td>\n",
       "      <td>India</td>\n",
       "      <td>False</td>\n",
       "      <td>18</td>\n",
       "    </tr>\n",
       "    <tr>\n",
       "      <th>4</th>\n",
       "      <td>4</td>\n",
       "      <td>Russia</td>\n",
       "      <td>True</td>\n",
       "      <td>200</td>\n",
       "    </tr>\n",
       "    <tr>\n",
       "      <th>5</th>\n",
       "      <td>5</td>\n",
       "      <td>Morocco</td>\n",
       "      <td>True</td>\n",
       "      <td>70</td>\n",
       "    </tr>\n",
       "    <tr>\n",
       "      <th>6</th>\n",
       "      <td>6</td>\n",
       "      <td>Egypt</td>\n",
       "      <td>True</td>\n",
       "      <td>45</td>\n",
       "    </tr>\n",
       "  </tbody>\n",
       "</table>\n",
       "</div>"
      ],
      "text/plain": [
       "   index        country  drives_right  cars_per_cap\n",
       "0      0  United States          True           809\n",
       "1      1      Australia         False           731\n",
       "2      2          Japan         False           588\n",
       "3      3          India         False            18\n",
       "4      4         Russia          True           200\n",
       "5      5        Morocco          True            70\n",
       "6      6          Egypt          True            45"
      ]
     },
     "execution_count": 94,
     "metadata": {},
     "output_type": "execute_result"
    }
   ],
   "source": [
    "cars = cars.reset_index()\n",
    "cars"
   ]
  },
  {
   "cell_type": "code",
   "execution_count": 95,
   "metadata": {},
   "outputs": [
    {
     "data": {
      "text/html": [
       "<div>\n",
       "<style scoped>\n",
       "    .dataframe tbody tr th:only-of-type {\n",
       "        vertical-align: middle;\n",
       "    }\n",
       "\n",
       "    .dataframe tbody tr th {\n",
       "        vertical-align: top;\n",
       "    }\n",
       "\n",
       "    .dataframe thead th {\n",
       "        text-align: right;\n",
       "    }\n",
       "</style>\n",
       "<table border=\"1\" class=\"dataframe\">\n",
       "  <thead>\n",
       "    <tr style=\"text-align: right;\">\n",
       "      <th></th>\n",
       "      <th>index</th>\n",
       "      <th>country</th>\n",
       "      <th>drives_right</th>\n",
       "      <th>cars_per_cap</th>\n",
       "    </tr>\n",
       "  </thead>\n",
       "  <tbody>\n",
       "    <tr>\n",
       "      <th>3</th>\n",
       "      <td>3</td>\n",
       "      <td>India</td>\n",
       "      <td>False</td>\n",
       "      <td>18</td>\n",
       "    </tr>\n",
       "    <tr>\n",
       "      <th>6</th>\n",
       "      <td>6</td>\n",
       "      <td>Egypt</td>\n",
       "      <td>True</td>\n",
       "      <td>45</td>\n",
       "    </tr>\n",
       "    <tr>\n",
       "      <th>5</th>\n",
       "      <td>5</td>\n",
       "      <td>Morocco</td>\n",
       "      <td>True</td>\n",
       "      <td>70</td>\n",
       "    </tr>\n",
       "    <tr>\n",
       "      <th>4</th>\n",
       "      <td>4</td>\n",
       "      <td>Russia</td>\n",
       "      <td>True</td>\n",
       "      <td>200</td>\n",
       "    </tr>\n",
       "    <tr>\n",
       "      <th>2</th>\n",
       "      <td>2</td>\n",
       "      <td>Japan</td>\n",
       "      <td>False</td>\n",
       "      <td>588</td>\n",
       "    </tr>\n",
       "    <tr>\n",
       "      <th>1</th>\n",
       "      <td>1</td>\n",
       "      <td>Australia</td>\n",
       "      <td>False</td>\n",
       "      <td>731</td>\n",
       "    </tr>\n",
       "    <tr>\n",
       "      <th>0</th>\n",
       "      <td>0</td>\n",
       "      <td>United States</td>\n",
       "      <td>True</td>\n",
       "      <td>809</td>\n",
       "    </tr>\n",
       "  </tbody>\n",
       "</table>\n",
       "</div>"
      ],
      "text/plain": [
       "   index        country  drives_right  cars_per_cap\n",
       "3      3          India         False            18\n",
       "6      6          Egypt          True            45\n",
       "5      5        Morocco          True            70\n",
       "4      4         Russia          True           200\n",
       "2      2          Japan         False           588\n",
       "1      1      Australia         False           731\n",
       "0      0  United States          True           809"
      ]
     },
     "execution_count": 95,
     "metadata": {},
     "output_type": "execute_result"
    }
   ],
   "source": [
    "#Note we could also sort on the 'country' and it would sort alphabetically\n",
    "cars_sorted = cars.sort_values(by=\"cars_per_cap\", axis=0)\n",
    "cars_sorted"
   ]
  },
  {
   "cell_type": "code",
   "execution_count": 96,
   "metadata": {},
   "outputs": [
    {
     "data": {
      "text/html": [
       "<div>\n",
       "<style scoped>\n",
       "    .dataframe tbody tr th:only-of-type {\n",
       "        vertical-align: middle;\n",
       "    }\n",
       "\n",
       "    .dataframe tbody tr th {\n",
       "        vertical-align: top;\n",
       "    }\n",
       "\n",
       "    .dataframe thead th {\n",
       "        text-align: right;\n",
       "    }\n",
       "</style>\n",
       "<table border=\"1\" class=\"dataframe\">\n",
       "  <thead>\n",
       "    <tr style=\"text-align: right;\">\n",
       "      <th></th>\n",
       "      <th>index</th>\n",
       "      <th>country</th>\n",
       "      <th>drives_right</th>\n",
       "      <th>cars_per_cap</th>\n",
       "    </tr>\n",
       "  </thead>\n",
       "  <tbody>\n",
       "    <tr>\n",
       "      <th>0</th>\n",
       "      <td>0</td>\n",
       "      <td>United States</td>\n",
       "      <td>True</td>\n",
       "      <td>809</td>\n",
       "    </tr>\n",
       "    <tr>\n",
       "      <th>1</th>\n",
       "      <td>1</td>\n",
       "      <td>Australia</td>\n",
       "      <td>False</td>\n",
       "      <td>731</td>\n",
       "    </tr>\n",
       "    <tr>\n",
       "      <th>2</th>\n",
       "      <td>2</td>\n",
       "      <td>Japan</td>\n",
       "      <td>False</td>\n",
       "      <td>588</td>\n",
       "    </tr>\n",
       "    <tr>\n",
       "      <th>4</th>\n",
       "      <td>4</td>\n",
       "      <td>Russia</td>\n",
       "      <td>True</td>\n",
       "      <td>200</td>\n",
       "    </tr>\n",
       "    <tr>\n",
       "      <th>5</th>\n",
       "      <td>5</td>\n",
       "      <td>Morocco</td>\n",
       "      <td>True</td>\n",
       "      <td>70</td>\n",
       "    </tr>\n",
       "    <tr>\n",
       "      <th>6</th>\n",
       "      <td>6</td>\n",
       "      <td>Egypt</td>\n",
       "      <td>True</td>\n",
       "      <td>45</td>\n",
       "    </tr>\n",
       "    <tr>\n",
       "      <th>3</th>\n",
       "      <td>3</td>\n",
       "      <td>India</td>\n",
       "      <td>False</td>\n",
       "      <td>18</td>\n",
       "    </tr>\n",
       "  </tbody>\n",
       "</table>\n",
       "</div>"
      ],
      "text/plain": [
       "   index        country  drives_right  cars_per_cap\n",
       "0      0  United States          True           809\n",
       "1      1      Australia         False           731\n",
       "2      2          Japan         False           588\n",
       "4      4         Russia          True           200\n",
       "5      5        Morocco          True            70\n",
       "6      6          Egypt          True            45\n",
       "3      3          India         False            18"
      ]
     },
     "execution_count": 96,
     "metadata": {},
     "output_type": "execute_result"
    }
   ],
   "source": [
    "#We could do this in reverse using the \"ascending\" argument which is defaulted to True\n",
    "cars_sorted_rev = cars.sort_values(by=\"cars_per_cap\", axis=0, ascending=False)\n",
    "cars_sorted_rev"
   ]
  },
  {
   "cell_type": "code",
   "execution_count": 97,
   "metadata": {},
   "outputs": [
    {
     "data": {
      "text/html": [
       "<div>\n",
       "<style scoped>\n",
       "    .dataframe tbody tr th:only-of-type {\n",
       "        vertical-align: middle;\n",
       "    }\n",
       "\n",
       "    .dataframe tbody tr th {\n",
       "        vertical-align: top;\n",
       "    }\n",
       "\n",
       "    .dataframe thead th {\n",
       "        text-align: right;\n",
       "    }\n",
       "</style>\n",
       "<table border=\"1\" class=\"dataframe\">\n",
       "  <thead>\n",
       "    <tr style=\"text-align: right;\">\n",
       "      <th></th>\n",
       "      <th>index</th>\n",
       "      <th>country</th>\n",
       "      <th>drives_right</th>\n",
       "      <th>cars_per_cap</th>\n",
       "    </tr>\n",
       "  </thead>\n",
       "  <tbody>\n",
       "    <tr>\n",
       "      <th>3</th>\n",
       "      <td>3</td>\n",
       "      <td>India</td>\n",
       "      <td>False</td>\n",
       "      <td>18</td>\n",
       "    </tr>\n",
       "    <tr>\n",
       "      <th>6</th>\n",
       "      <td>6</td>\n",
       "      <td>Egypt</td>\n",
       "      <td>True</td>\n",
       "      <td>45</td>\n",
       "    </tr>\n",
       "    <tr>\n",
       "      <th>5</th>\n",
       "      <td>5</td>\n",
       "      <td>Morocco</td>\n",
       "      <td>True</td>\n",
       "      <td>70</td>\n",
       "    </tr>\n",
       "    <tr>\n",
       "      <th>4</th>\n",
       "      <td>4</td>\n",
       "      <td>Russia</td>\n",
       "      <td>True</td>\n",
       "      <td>200</td>\n",
       "    </tr>\n",
       "    <tr>\n",
       "      <th>2</th>\n",
       "      <td>2</td>\n",
       "      <td>Japan</td>\n",
       "      <td>False</td>\n",
       "      <td>588</td>\n",
       "    </tr>\n",
       "    <tr>\n",
       "      <th>1</th>\n",
       "      <td>1</td>\n",
       "      <td>Australia</td>\n",
       "      <td>False</td>\n",
       "      <td>731</td>\n",
       "    </tr>\n",
       "    <tr>\n",
       "      <th>0</th>\n",
       "      <td>0</td>\n",
       "      <td>United States</td>\n",
       "      <td>True</td>\n",
       "      <td>809</td>\n",
       "    </tr>\n",
       "  </tbody>\n",
       "</table>\n",
       "</div>"
      ],
      "text/plain": [
       "   index        country  drives_right  cars_per_cap\n",
       "3      3          India         False            18\n",
       "6      6          Egypt          True            45\n",
       "5      5        Morocco          True            70\n",
       "4      4         Russia          True           200\n",
       "2      2          Japan         False           588\n",
       "1      1      Australia         False           731\n",
       "0      0  United States          True           809"
      ]
     },
     "execution_count": 97,
     "metadata": {},
     "output_type": "execute_result"
    }
   ],
   "source": [
    "#sort_values can take a list of columns so we can sort by a number in order\n",
    "cars_sorted_multiple = cars.sort_values(by=[\"cars_per_cap\", \"country\"], axis=0)\n",
    "cars_sorted_multiple"
   ]
  },
  {
   "cell_type": "markdown",
   "metadata": {
    "toc-hr-collapsed": true
   },
   "source": [
    "## 3.4 Applying functions to dfs"
   ]
  },
  {
   "cell_type": "markdown",
   "metadata": {},
   "source": [
    "This is a very powerful way to efficiently apply functions to entire rows or columns. The result can then be saved to a new column or kept separate for analysis.\n",
    "\n",
    "Built-in functions can be used such as np.sum or np.mean or any other defined function.\n",
    "\n",
    "Some examples taken from here http://jonathansoma.com/lede/foundations/classes/pandas%20columns%20and%20functions/apply-a-function-to-every-row-in-a-pandas-dataframe/"
   ]
  },
  {
   "cell_type": "markdown",
   "metadata": {
    "toc-hr-collapsed": true
   },
   "source": [
    "### 3.4.1 apply() & applymap"
   ]
  },
  {
   "cell_type": "markdown",
   "metadata": {
    "toc-hr-collapsed": true
   },
   "source": [
    "#### 3.4.1.1 apply()"
   ]
  },
  {
   "cell_type": "code",
   "execution_count": 139,
   "metadata": {},
   "outputs": [
    {
     "data": {
      "text/html": [
       "<div>\n",
       "<style scoped>\n",
       "    .dataframe tbody tr th:only-of-type {\n",
       "        vertical-align: middle;\n",
       "    }\n",
       "\n",
       "    .dataframe tbody tr th {\n",
       "        vertical-align: top;\n",
       "    }\n",
       "\n",
       "    .dataframe thead th {\n",
       "        text-align: right;\n",
       "    }\n",
       "</style>\n",
       "<table border=\"1\" class=\"dataframe\">\n",
       "  <thead>\n",
       "    <tr style=\"text-align: right;\">\n",
       "      <th></th>\n",
       "      <th>names</th>\n",
       "      <th>amounts</th>\n",
       "    </tr>\n",
       "  </thead>\n",
       "  <tbody>\n",
       "    <tr>\n",
       "      <th>0</th>\n",
       "      <td>John</td>\n",
       "      <td>$1.00</td>\n",
       "    </tr>\n",
       "    <tr>\n",
       "      <th>1</th>\n",
       "      <td>Steve</td>\n",
       "      <td>$544.34</td>\n",
       "    </tr>\n",
       "    <tr>\n",
       "      <th>2</th>\n",
       "      <td>Abby</td>\n",
       "      <td>$10.22</td>\n",
       "    </tr>\n",
       "  </tbody>\n",
       "</table>\n",
       "</div>"
      ],
      "text/plain": [
       "   names  amounts\n",
       "0   John    $1.00\n",
       "1  Steve  $544.34\n",
       "2   Abby   $10.22"
      ]
     },
     "execution_count": 139,
     "metadata": {},
     "output_type": "execute_result"
    }
   ],
   "source": [
    "#Create a simple dataframe\n",
    "names = [\"John\", \"Steve\", \"Abby\"]\n",
    "amounts = [\"$1.00\", \"$544.34\", \"$10.22\"]\n",
    "columns = [\"names\", \"amounts\"]\n",
    "df = pd.DataFrame(list(zip(names, amounts)), columns=columns) \n",
    "df"
   ]
  },
  {
   "cell_type": "code",
   "execution_count": 140,
   "metadata": {},
   "outputs": [
    {
     "data": {
      "text/plain": [
       "0      1.00\n",
       "1    544.34\n",
       "2     10.22\n",
       "Name: amounts, dtype: float64"
      ]
     },
     "execution_count": 140,
     "metadata": {},
     "output_type": "execute_result"
    }
   ],
   "source": [
    "#Let us start with a custom function to format some dollar strings\n",
    "def money_to_float(money_str):\n",
    "    return float(money_str.replace(\"$\",\"\").replace(\",\",\"\"))\n",
    "\n",
    "df['amounts'].apply(money_to_float) #Simply calling apply will return a series"
   ]
  },
  {
   "cell_type": "code",
   "execution_count": 142,
   "metadata": {},
   "outputs": [
    {
     "data": {
      "text/html": [
       "<div>\n",
       "<style scoped>\n",
       "    .dataframe tbody tr th:only-of-type {\n",
       "        vertical-align: middle;\n",
       "    }\n",
       "\n",
       "    .dataframe tbody tr th {\n",
       "        vertical-align: top;\n",
       "    }\n",
       "\n",
       "    .dataframe thead th {\n",
       "        text-align: right;\n",
       "    }\n",
       "</style>\n",
       "<table border=\"1\" class=\"dataframe\">\n",
       "  <thead>\n",
       "    <tr style=\"text-align: right;\">\n",
       "      <th></th>\n",
       "      <th>names</th>\n",
       "      <th>amounts</th>\n",
       "      <th>amount_clean</th>\n",
       "    </tr>\n",
       "  </thead>\n",
       "  <tbody>\n",
       "    <tr>\n",
       "      <th>0</th>\n",
       "      <td>John</td>\n",
       "      <td>$1.00</td>\n",
       "      <td>1.00</td>\n",
       "    </tr>\n",
       "    <tr>\n",
       "      <th>1</th>\n",
       "      <td>Steve</td>\n",
       "      <td>$544.34</td>\n",
       "      <td>544.34</td>\n",
       "    </tr>\n",
       "    <tr>\n",
       "      <th>2</th>\n",
       "      <td>Abby</td>\n",
       "      <td>$10.22</td>\n",
       "      <td>10.22</td>\n",
       "    </tr>\n",
       "  </tbody>\n",
       "</table>\n",
       "</div>"
      ],
      "text/plain": [
       "   names  amounts  amount_clean\n",
       "0   John    $1.00          1.00\n",
       "1  Steve  $544.34        544.34\n",
       "2   Abby   $10.22         10.22"
      ]
     },
     "execution_count": 142,
     "metadata": {},
     "output_type": "execute_result"
    }
   ],
   "source": [
    "# So we could therefore turn that series into a new column\n",
    "df[\"amount_clean\"] = df[\"amounts\"].apply(money_to_float)\n",
    "df"
   ]
  },
  {
   "cell_type": "code",
   "execution_count": 144,
   "metadata": {},
   "outputs": [
    {
     "data": {
      "text/html": [
       "<div>\n",
       "<style scoped>\n",
       "    .dataframe tbody tr th:only-of-type {\n",
       "        vertical-align: middle;\n",
       "    }\n",
       "\n",
       "    .dataframe tbody tr th {\n",
       "        vertical-align: top;\n",
       "    }\n",
       "\n",
       "    .dataframe thead th {\n",
       "        text-align: right;\n",
       "    }\n",
       "</style>\n",
       "<table border=\"1\" class=\"dataframe\">\n",
       "  <thead>\n",
       "    <tr style=\"text-align: right;\">\n",
       "      <th></th>\n",
       "      <th>height</th>\n",
       "      <th>width</th>\n",
       "    </tr>\n",
       "  </thead>\n",
       "  <tbody>\n",
       "    <tr>\n",
       "      <th>0</th>\n",
       "      <td>40.0</td>\n",
       "      <td>10</td>\n",
       "    </tr>\n",
       "    <tr>\n",
       "      <th>1</th>\n",
       "      <td>20.0</td>\n",
       "      <td>9</td>\n",
       "    </tr>\n",
       "    <tr>\n",
       "      <th>2</th>\n",
       "      <td>3.4</td>\n",
       "      <td>4</td>\n",
       "    </tr>\n",
       "  </tbody>\n",
       "</table>\n",
       "</div>"
      ],
      "text/plain": [
       "   height  width\n",
       "0    40.0     10\n",
       "1    20.0      9\n",
       "2     3.4      4"
      ]
     },
     "execution_count": 144,
     "metadata": {},
     "output_type": "execute_result"
    }
   ],
   "source": [
    "# Create a dataframe from a list of dictionaries\n",
    "rectangles = [\n",
    "    { 'height': 40, 'width': 10 },\n",
    "    { 'height': 20, 'width': 9 },\n",
    "    { 'height': 3.4, 'width': 4 }\n",
    "]\n",
    "\n",
    "rectangles_df = pd.DataFrame(rectangles)\n",
    "rectangles_df"
   ]
  },
  {
   "cell_type": "code",
   "execution_count": 145,
   "metadata": {},
   "outputs": [
    {
     "data": {
      "text/html": [
       "<div>\n",
       "<style scoped>\n",
       "    .dataframe tbody tr th:only-of-type {\n",
       "        vertical-align: middle;\n",
       "    }\n",
       "\n",
       "    .dataframe tbody tr th {\n",
       "        vertical-align: top;\n",
       "    }\n",
       "\n",
       "    .dataframe thead th {\n",
       "        text-align: right;\n",
       "    }\n",
       "</style>\n",
       "<table border=\"1\" class=\"dataframe\">\n",
       "  <thead>\n",
       "    <tr style=\"text-align: right;\">\n",
       "      <th></th>\n",
       "      <th>height</th>\n",
       "      <th>width</th>\n",
       "      <th>area</th>\n",
       "    </tr>\n",
       "  </thead>\n",
       "  <tbody>\n",
       "    <tr>\n",
       "      <th>0</th>\n",
       "      <td>40.0</td>\n",
       "      <td>10</td>\n",
       "      <td>400.0</td>\n",
       "    </tr>\n",
       "    <tr>\n",
       "      <th>1</th>\n",
       "      <td>20.0</td>\n",
       "      <td>9</td>\n",
       "      <td>180.0</td>\n",
       "    </tr>\n",
       "    <tr>\n",
       "      <th>2</th>\n",
       "      <td>3.4</td>\n",
       "      <td>4</td>\n",
       "      <td>13.6</td>\n",
       "    </tr>\n",
       "  </tbody>\n",
       "</table>\n",
       "</div>"
      ],
      "text/plain": [
       "   height  width   area\n",
       "0    40.0     10  400.0\n",
       "1    20.0      9  180.0\n",
       "2     3.4      4   13.6"
      ]
     },
     "execution_count": 145,
     "metadata": {},
     "output_type": "execute_result"
    }
   ],
   "source": [
    "# We can also send through each row when passing axis=1\n",
    "# This passes each row through as a series which can be indexed on\n",
    "rectangles_df_simple = rectangles_df.copy()\n",
    "\n",
    "def calculate_area(row):\n",
    "    return row['height'] * row['width']\n",
    "\n",
    "rectangles_df_simple[\"area\"] = rectangles_df_simple.apply(calculate_area, axis=1)\n",
    "rectangles_df_simple"
   ]
  },
  {
   "cell_type": "markdown",
   "metadata": {
    "toc-hr-collapsed": true
   },
   "source": [
    "#### 3.4.1.2 applymap()"
   ]
  },
  {
   "cell_type": "markdown",
   "metadata": {},
   "source": [
    "Where apply can be undertaken on a single row or column, we may want an operation undertaken on every element in the dataframe, in which we use applymap().\n",
    "\n",
    "There is also a map() method which works on a series object"
   ]
  },
  {
   "cell_type": "code",
   "execution_count": 146,
   "metadata": {},
   "outputs": [
    {
     "data": {
      "text/html": [
       "<div>\n",
       "<style scoped>\n",
       "    .dataframe tbody tr th:only-of-type {\n",
       "        vertical-align: middle;\n",
       "    }\n",
       "\n",
       "    .dataframe tbody tr th {\n",
       "        vertical-align: top;\n",
       "    }\n",
       "\n",
       "    .dataframe thead th {\n",
       "        text-align: right;\n",
       "    }\n",
       "</style>\n",
       "<table border=\"1\" class=\"dataframe\">\n",
       "  <thead>\n",
       "    <tr style=\"text-align: right;\">\n",
       "      <th></th>\n",
       "      <th>b</th>\n",
       "      <th>d</th>\n",
       "      <th>e</th>\n",
       "    </tr>\n",
       "  </thead>\n",
       "  <tbody>\n",
       "    <tr>\n",
       "      <th>Utah</th>\n",
       "      <td>0.699092</td>\n",
       "      <td>0.599897</td>\n",
       "      <td>-0.481248</td>\n",
       "    </tr>\n",
       "    <tr>\n",
       "      <th>Ohio</th>\n",
       "      <td>-2.093794</td>\n",
       "      <td>-0.420047</td>\n",
       "      <td>0.139204</td>\n",
       "    </tr>\n",
       "    <tr>\n",
       "      <th>Texas</th>\n",
       "      <td>0.001814</td>\n",
       "      <td>0.755935</td>\n",
       "      <td>1.933543</td>\n",
       "    </tr>\n",
       "    <tr>\n",
       "      <th>Oregon</th>\n",
       "      <td>0.413875</td>\n",
       "      <td>0.567768</td>\n",
       "      <td>0.148182</td>\n",
       "    </tr>\n",
       "  </tbody>\n",
       "</table>\n",
       "</div>"
      ],
      "text/plain": [
       "               b         d         e\n",
       "Utah    0.699092  0.599897 -0.481248\n",
       "Ohio   -2.093794 -0.420047  0.139204\n",
       "Texas   0.001814  0.755935  1.933543\n",
       "Oregon  0.413875  0.567768  0.148182"
      ]
     },
     "execution_count": 146,
     "metadata": {},
     "output_type": "execute_result"
    }
   ],
   "source": [
    "frame = pd.DataFrame(np.random.randn(4, 3), columns=list('bde'), index=['Utah', 'Ohio', 'Texas', 'Oregon'])\n",
    "frame"
   ]
  },
  {
   "cell_type": "code",
   "execution_count": 147,
   "metadata": {},
   "outputs": [
    {
     "data": {
      "text/html": [
       "<div>\n",
       "<style scoped>\n",
       "    .dataframe tbody tr th:only-of-type {\n",
       "        vertical-align: middle;\n",
       "    }\n",
       "\n",
       "    .dataframe tbody tr th {\n",
       "        vertical-align: top;\n",
       "    }\n",
       "\n",
       "    .dataframe thead th {\n",
       "        text-align: right;\n",
       "    }\n",
       "</style>\n",
       "<table border=\"1\" class=\"dataframe\">\n",
       "  <thead>\n",
       "    <tr style=\"text-align: right;\">\n",
       "      <th></th>\n",
       "      <th>b</th>\n",
       "      <th>d</th>\n",
       "      <th>e</th>\n",
       "    </tr>\n",
       "  </thead>\n",
       "  <tbody>\n",
       "    <tr>\n",
       "      <th>Utah</th>\n",
       "      <td>0.70</td>\n",
       "      <td>0.60</td>\n",
       "      <td>-0.48</td>\n",
       "    </tr>\n",
       "    <tr>\n",
       "      <th>Ohio</th>\n",
       "      <td>-2.09</td>\n",
       "      <td>-0.42</td>\n",
       "      <td>0.14</td>\n",
       "    </tr>\n",
       "    <tr>\n",
       "      <th>Texas</th>\n",
       "      <td>0.00</td>\n",
       "      <td>0.76</td>\n",
       "      <td>1.93</td>\n",
       "    </tr>\n",
       "    <tr>\n",
       "      <th>Oregon</th>\n",
       "      <td>0.41</td>\n",
       "      <td>0.57</td>\n",
       "      <td>0.15</td>\n",
       "    </tr>\n",
       "  </tbody>\n",
       "</table>\n",
       "</div>"
      ],
      "text/plain": [
       "           b     d     e\n",
       "Utah    0.70  0.60 -0.48\n",
       "Ohio   -2.09 -0.42  0.14\n",
       "Texas   0.00  0.76  1.93\n",
       "Oregon  0.41  0.57  0.15"
      ]
     },
     "execution_count": 147,
     "metadata": {},
     "output_type": "execute_result"
    }
   ],
   "source": [
    "frame = frame.applymap(lambda x: round(x,2))\n",
    "frame\n",
    "# Note how it returns a df so we need to assign back to frame"
   ]
  },
  {
   "cell_type": "markdown",
   "metadata": {
    "toc-hr-collapsed": true
   },
   "source": [
    "### 3.4.2 Lambda functions"
   ]
  },
  {
   "cell_type": "markdown",
   "metadata": {},
   "source": [
    "A lambda function is a small anonymous function. A lambda function can take any number of arguments, but can only have one expression."
   ]
  },
  {
   "cell_type": "code",
   "execution_count": 148,
   "metadata": {},
   "outputs": [
    {
     "name": "stdout",
     "output_type": "stream",
     "text": [
      "13\n"
     ]
    }
   ],
   "source": [
    "#A simple example would be:\n",
    "x = lambda a, b, c : a + b + c\n",
    "print(x(5, 6, 2))"
   ]
  },
  {
   "cell_type": "code",
   "execution_count": 154,
   "metadata": {},
   "outputs": [
    {
     "data": {
      "text/plain": [
       "<function __main__.<lambda>(a, b, c)>"
      ]
     },
     "execution_count": 154,
     "metadata": {},
     "output_type": "execute_result"
    }
   ],
   "source": [
    "x"
   ]
  },
  {
   "cell_type": "code",
   "execution_count": 156,
   "metadata": {},
   "outputs": [
    {
     "data": {
      "text/html": [
       "<div>\n",
       "<style scoped>\n",
       "    .dataframe tbody tr th:only-of-type {\n",
       "        vertical-align: middle;\n",
       "    }\n",
       "\n",
       "    .dataframe tbody tr th {\n",
       "        vertical-align: top;\n",
       "    }\n",
       "\n",
       "    .dataframe thead th {\n",
       "        text-align: right;\n",
       "    }\n",
       "</style>\n",
       "<table border=\"1\" class=\"dataframe\">\n",
       "  <thead>\n",
       "    <tr style=\"text-align: right;\">\n",
       "      <th></th>\n",
       "      <th>height</th>\n",
       "      <th>width</th>\n",
       "      <th>area</th>\n",
       "    </tr>\n",
       "  </thead>\n",
       "  <tbody>\n",
       "    <tr>\n",
       "      <th>0</th>\n",
       "      <td>40.0</td>\n",
       "      <td>10</td>\n",
       "      <td>400.0</td>\n",
       "    </tr>\n",
       "    <tr>\n",
       "      <th>1</th>\n",
       "      <td>20.0</td>\n",
       "      <td>9</td>\n",
       "      <td>180.0</td>\n",
       "    </tr>\n",
       "    <tr>\n",
       "      <th>2</th>\n",
       "      <td>3.4</td>\n",
       "      <td>4</td>\n",
       "      <td>13.6</td>\n",
       "    </tr>\n",
       "  </tbody>\n",
       "</table>\n",
       "</div>"
      ],
      "text/plain": [
       "   height  width   area\n",
       "0    40.0     10  400.0\n",
       "1    20.0      9  180.0\n",
       "2     3.4      4   13.6"
      ]
     },
     "execution_count": 156,
     "metadata": {},
     "output_type": "execute_result"
    }
   ],
   "source": [
    "# However we can use this to apply anonymous functions to our df if they are simple enough\n",
    "rectangles_df_lamb = rectangles_df.copy()\n",
    "rectangles_df_lamb[\"area\"] = rectangles_df.apply(lambda x: x[\"height\"] * x[\"width\"], axis=1)\n",
    "rectangles_df_lamb"
   ]
  },
  {
   "cell_type": "markdown",
   "metadata": {
    "toc-hr-collapsed": false
   },
   "source": [
    "### 3.4.3 Aggregations"
   ]
  },
  {
   "cell_type": "markdown",
   "metadata": {},
   "source": [
    "Unlike apply, the aggregate function (use 'agg') is more flexible, allowing multiple, fast aggregations to be done on different columns. "
   ]
  },
  {
   "cell_type": "code",
   "execution_count": 157,
   "metadata": {},
   "outputs": [
    {
     "data": {
      "text/plain": [
       "(150, 5)"
      ]
     },
     "execution_count": 157,
     "metadata": {},
     "output_type": "execute_result"
    }
   ],
   "source": [
    "#Let us use the iris dataset for this\n",
    "from sklearn.datasets import load_iris\n",
    "\n",
    "iris = load_iris()\n",
    "iris = pd.DataFrame(data= np.c_[iris['data'], iris['target']],\n",
    "                     columns= iris['feature_names'] + ['target'])\n",
    "iris.shape"
   ]
  },
  {
   "cell_type": "code",
   "execution_count": 158,
   "metadata": {},
   "outputs": [
    {
     "name": "stdout",
     "output_type": "stream",
     "text": [
      "sepal width (cm)    2.0\n",
      "petal width (cm)    2.5\n",
      "dtype: float64\n",
      "        sepal width (cm)  sepal length (cm)\n",
      "mean                 NaN           5.843333\n",
      "median               3.0                NaN\n",
      "min                  2.0           4.300000\n"
     ]
    }
   ],
   "source": [
    "print(iris.agg({'sepal width (cm)': 'min', 'petal width (cm)': 'max'})) #This returns a series\n",
    "print(iris.agg({'sepal width (cm)': ['min', 'median'], 'sepal length (cm)': ['min', 'mean']})) #Returns a df"
   ]
  },
  {
   "cell_type": "markdown",
   "metadata": {
    "toc-hr-collapsed": false
   },
   "source": [
    "### 3.4.4 Vectorisation in pandas"
   ]
  },
  {
   "cell_type": "markdown",
   "metadata": {},
   "source": [
    "Whilst most built-in python and numpy functions will work in a vectorised format, custom functions using apply loop over the entire dataset. Hence vectorising this approach would be more optimal."
   ]
  },
  {
   "cell_type": "code",
   "execution_count": 159,
   "metadata": {},
   "outputs": [],
   "source": [
    "#Let us consider an example where we (for no real reason) add the pH to the alcohol in our wine dataset\n",
    "wine_apply = wine.copy()"
   ]
  },
  {
   "cell_type": "code",
   "execution_count": 160,
   "metadata": {},
   "outputs": [],
   "source": [
    "def ph_and_alc(row):\n",
    "    return row[\"pH\"] + row[\"alcohol\"]"
   ]
  },
  {
   "cell_type": "code",
   "execution_count": 161,
   "metadata": {},
   "outputs": [
    {
     "name": "stdout",
     "output_type": "stream",
     "text": [
      "--- 0.15908217430114746 seconds ---\n"
     ]
    }
   ],
   "source": [
    "start_time = time.time()\n",
    "wine_apply[\"pH_alc\"] = wine_apply.apply(ph_and_alc, axis=1)\n",
    "total_time_apply = time.time() - start_time\n",
    "print(\"--- {} seconds ---\".format(total_time_apply))"
   ]
  },
  {
   "cell_type": "code",
   "execution_count": 162,
   "metadata": {},
   "outputs": [],
   "source": [
    "#Make a new copy for our vectorised test\n",
    "wine_vect = wine.copy()"
   ]
  },
  {
   "cell_type": "code",
   "execution_count": 163,
   "metadata": {},
   "outputs": [
    {
     "name": "stdout",
     "output_type": "stream",
     "text": [
      "--- 0.0011568069458007812 seconds ---\n"
     ]
    }
   ],
   "source": [
    "#Now let us try a vectorised approach\n",
    "start_time = time.time()\n",
    "wine_vect[\"pH_alc\"] = ph_and_alc(wine_vect)\n",
    "total_time_vect = time.time() - start_time\n",
    "print(\"--- {} seconds ---\".format(total_time_vect)) \n",
    "# Note the huge speedup"
   ]
  },
  {
   "cell_type": "code",
   "execution_count": 164,
   "metadata": {},
   "outputs": [],
   "source": [
    "#We could even go one step further and use a numpy ndarray if the index does not matter\n",
    "#This would involve passing in the .values of a series object"
   ]
  },
  {
   "cell_type": "markdown",
   "metadata": {
    "toc-hr-collapsed": true
   },
   "source": [
    "## 3.5 Groupby"
   ]
  },
  {
   "cell_type": "markdown",
   "metadata": {},
   "source": [
    "Groupby is so important it has its own section for now.\n",
    "\n",
    "Aggregations become very powerful when used in conjunction with groupby. Additionally this is a very important way of being able to group categorical data (and then apply operations on them).\n",
    "\n",
    "This is where we notice the real flexibility of groupby.agg vs groupby.apply since the agg allows multiple functions meaning we can do this once to a single grouped-by object"
   ]
  },
  {
   "cell_type": "markdown",
   "metadata": {
    "toc-hr-collapsed": false
   },
   "source": [
    "### 3.5.1 Simple Groupby"
   ]
  },
  {
   "cell_type": "code",
   "execution_count": 165,
   "metadata": {},
   "outputs": [
    {
     "data": {
      "text/html": [
       "<div>\n",
       "<style scoped>\n",
       "    .dataframe tbody tr th:only-of-type {\n",
       "        vertical-align: middle;\n",
       "    }\n",
       "\n",
       "    .dataframe tbody tr th {\n",
       "        vertical-align: top;\n",
       "    }\n",
       "\n",
       "    .dataframe thead th {\n",
       "        text-align: right;\n",
       "    }\n",
       "</style>\n",
       "<table border=\"1\" class=\"dataframe\">\n",
       "  <thead>\n",
       "    <tr style=\"text-align: right;\">\n",
       "      <th></th>\n",
       "      <th>col1</th>\n",
       "      <th>col2</th>\n",
       "      <th>col3</th>\n",
       "    </tr>\n",
       "  </thead>\n",
       "  <tbody>\n",
       "    <tr>\n",
       "      <th>0</th>\n",
       "      <td>A</td>\n",
       "      <td>1</td>\n",
       "      <td>-1</td>\n",
       "    </tr>\n",
       "    <tr>\n",
       "      <th>1</th>\n",
       "      <td>A</td>\n",
       "      <td>2</td>\n",
       "      <td>-2</td>\n",
       "    </tr>\n",
       "    <tr>\n",
       "      <th>2</th>\n",
       "      <td>A</td>\n",
       "      <td>3</td>\n",
       "      <td>-3</td>\n",
       "    </tr>\n",
       "    <tr>\n",
       "      <th>3</th>\n",
       "      <td>A</td>\n",
       "      <td>4</td>\n",
       "      <td>-4</td>\n",
       "    </tr>\n",
       "    <tr>\n",
       "      <th>4</th>\n",
       "      <td>A</td>\n",
       "      <td>5</td>\n",
       "      <td>-5</td>\n",
       "    </tr>\n",
       "    <tr>\n",
       "      <th>5</th>\n",
       "      <td>B</td>\n",
       "      <td>6</td>\n",
       "      <td>-6</td>\n",
       "    </tr>\n",
       "    <tr>\n",
       "      <th>6</th>\n",
       "      <td>B</td>\n",
       "      <td>7</td>\n",
       "      <td>-7</td>\n",
       "    </tr>\n",
       "    <tr>\n",
       "      <th>7</th>\n",
       "      <td>B</td>\n",
       "      <td>8</td>\n",
       "      <td>-8</td>\n",
       "    </tr>\n",
       "    <tr>\n",
       "      <th>8</th>\n",
       "      <td>C</td>\n",
       "      <td>9</td>\n",
       "      <td>-9</td>\n",
       "    </tr>\n",
       "    <tr>\n",
       "      <th>9</th>\n",
       "      <td>C</td>\n",
       "      <td>0</td>\n",
       "      <td>0</td>\n",
       "    </tr>\n",
       "  </tbody>\n",
       "</table>\n",
       "</div>"
      ],
      "text/plain": [
       "  col1  col2  col3\n",
       "0    A     1    -1\n",
       "1    A     2    -2\n",
       "2    A     3    -3\n",
       "3    A     4    -4\n",
       "4    A     5    -5\n",
       "5    B     6    -6\n",
       "6    B     7    -7\n",
       "7    B     8    -8\n",
       "8    C     9    -9\n",
       "9    C     0     0"
      ]
     },
     "execution_count": 165,
     "metadata": {},
     "output_type": "execute_result"
    }
   ],
   "source": [
    "#Start with a simple dataset\n",
    "g_df = pd.DataFrame(\n",
    "    {'col1':['A','A','A','A','A','B','B','B','C','C'],\n",
    "    'col2':[1,2,3,4,5,6,7,8,9,0],\n",
    "     'col3':[-1,-2,-3,-4,-5,-6,-7,-8,-9,0]\n",
    "    }\n",
    ")\n",
    "g_df"
   ]
  },
  {
   "cell_type": "code",
   "execution_count": 166,
   "metadata": {},
   "outputs": [
    {
     "name": "stdout",
     "output_type": "stream",
     "text": [
      "      col2  col3\n",
      "col1            \n",
      "A        5    -5\n",
      "B        8    -8\n",
      "C        9    -9\n",
      "shape:  (3, 2)\n",
      "Index(['A', 'B', 'C'], dtype='object', name='col1')\n"
     ]
    }
   ],
   "source": [
    "#Firstly we can do a single level groupby\n",
    "#We will then aggregate, getting the max in col2 FOR the col1 group (and same for min)\n",
    "simple_g = g_df.groupby('col1').agg({'col2': 'max', 'col3': 'min'})\n",
    "print(simple_g)\n",
    "print(\"shape: \", simple_g.shape)\n",
    "print(simple_g.index)"
   ]
  },
  {
   "cell_type": "code",
   "execution_count": 167,
   "metadata": {},
   "outputs": [
    {
     "data": {
      "text/plain": [
       "Index(['A', 'B', 'C'], dtype='object', name='col1')"
      ]
     },
     "execution_count": 167,
     "metadata": {},
     "output_type": "execute_result"
    }
   ],
   "source": [
    "simple_g.index\n",
    "#Therefore we could 'loc' to get one of the groups back if we wanted"
   ]
  },
  {
   "cell_type": "code",
   "execution_count": 168,
   "metadata": {},
   "outputs": [
    {
     "data": {
      "text/html": [
       "<div>\n",
       "<style scoped>\n",
       "    .dataframe tbody tr th:only-of-type {\n",
       "        vertical-align: middle;\n",
       "    }\n",
       "\n",
       "    .dataframe tbody tr th {\n",
       "        vertical-align: top;\n",
       "    }\n",
       "\n",
       "    .dataframe thead th {\n",
       "        text-align: right;\n",
       "    }\n",
       "</style>\n",
       "<table border=\"1\" class=\"dataframe\">\n",
       "  <thead>\n",
       "    <tr style=\"text-align: right;\">\n",
       "      <th></th>\n",
       "      <th>col1</th>\n",
       "      <th>col2</th>\n",
       "      <th>col3</th>\n",
       "    </tr>\n",
       "  </thead>\n",
       "  <tbody>\n",
       "    <tr>\n",
       "      <th>0</th>\n",
       "      <td>A</td>\n",
       "      <td>5</td>\n",
       "      <td>-5</td>\n",
       "    </tr>\n",
       "    <tr>\n",
       "      <th>1</th>\n",
       "      <td>B</td>\n",
       "      <td>8</td>\n",
       "      <td>-8</td>\n",
       "    </tr>\n",
       "    <tr>\n",
       "      <th>2</th>\n",
       "      <td>C</td>\n",
       "      <td>9</td>\n",
       "      <td>-9</td>\n",
       "    </tr>\n",
       "  </tbody>\n",
       "</table>\n",
       "</div>"
      ],
      "text/plain": [
       "  col1  col2  col3\n",
       "0    A     5    -5\n",
       "1    B     8    -8\n",
       "2    C     9    -9"
      ]
     },
     "execution_count": 168,
     "metadata": {},
     "output_type": "execute_result"
    }
   ],
   "source": [
    "#We can remove the index by either reseting the index or passing in as_index=False\n",
    "simple_g = simple_g.reset_index()\n",
    "simple_g #See how the index is now just numbers"
   ]
  },
  {
   "cell_type": "markdown",
   "metadata": {
    "toc-hr-collapsed": false
   },
   "source": [
    "### 3.5.2 Multi-index Groupby"
   ]
  },
  {
   "cell_type": "code",
   "execution_count": 169,
   "metadata": {},
   "outputs": [
    {
     "data": {
      "text/html": [
       "<div>\n",
       "<style scoped>\n",
       "    .dataframe tbody tr th:only-of-type {\n",
       "        vertical-align: middle;\n",
       "    }\n",
       "\n",
       "    .dataframe tbody tr th {\n",
       "        vertical-align: top;\n",
       "    }\n",
       "\n",
       "    .dataframe thead tr th {\n",
       "        text-align: left;\n",
       "    }\n",
       "\n",
       "    .dataframe thead tr:last-of-type th {\n",
       "        text-align: right;\n",
       "    }\n",
       "</style>\n",
       "<table border=\"1\" class=\"dataframe\">\n",
       "  <thead>\n",
       "    <tr>\n",
       "      <th></th>\n",
       "      <th colspan=\"3\" halign=\"left\">col2</th>\n",
       "      <th colspan=\"4\" halign=\"left\">col3</th>\n",
       "    </tr>\n",
       "    <tr>\n",
       "      <th></th>\n",
       "      <th>max</th>\n",
       "      <th>min</th>\n",
       "      <th>std</th>\n",
       "      <th>size</th>\n",
       "      <th>std</th>\n",
       "      <th>mean</th>\n",
       "      <th>max</th>\n",
       "    </tr>\n",
       "    <tr>\n",
       "      <th>col1</th>\n",
       "      <th></th>\n",
       "      <th></th>\n",
       "      <th></th>\n",
       "      <th></th>\n",
       "      <th></th>\n",
       "      <th></th>\n",
       "      <th></th>\n",
       "    </tr>\n",
       "  </thead>\n",
       "  <tbody>\n",
       "    <tr>\n",
       "      <th>A</th>\n",
       "      <td>5</td>\n",
       "      <td>1</td>\n",
       "      <td>1.581139</td>\n",
       "      <td>5</td>\n",
       "      <td>1.581139</td>\n",
       "      <td>-3.0</td>\n",
       "      <td>-1</td>\n",
       "    </tr>\n",
       "    <tr>\n",
       "      <th>B</th>\n",
       "      <td>8</td>\n",
       "      <td>6</td>\n",
       "      <td>1.000000</td>\n",
       "      <td>3</td>\n",
       "      <td>1.000000</td>\n",
       "      <td>-7.0</td>\n",
       "      <td>-6</td>\n",
       "    </tr>\n",
       "    <tr>\n",
       "      <th>C</th>\n",
       "      <td>9</td>\n",
       "      <td>0</td>\n",
       "      <td>6.363961</td>\n",
       "      <td>2</td>\n",
       "      <td>6.363961</td>\n",
       "      <td>-4.5</td>\n",
       "      <td>0</td>\n",
       "    </tr>\n",
       "  </tbody>\n",
       "</table>\n",
       "</div>"
      ],
      "text/plain": [
       "     col2               col3                   \n",
       "      max min       std size       std mean max\n",
       "col1                                           \n",
       "A       5   1  1.581139    5  1.581139 -3.0  -1\n",
       "B       8   6  1.000000    3  1.000000 -7.0  -6\n",
       "C       9   0  6.363961    2  6.363961 -4.5   0"
      ]
     },
     "execution_count": 169,
     "metadata": {},
     "output_type": "execute_result"
    }
   ],
   "source": [
    "multi_g = g_df.groupby('col1').agg({'col2': ['max', 'min', 'std'], \n",
    "                                 'col3': ['size', 'std', 'mean', 'max']})\n",
    "multi_g"
   ]
  },
  {
   "cell_type": "code",
   "execution_count": 170,
   "metadata": {},
   "outputs": [
    {
     "name": "stdout",
     "output_type": "stream",
     "text": [
      "      max  min       std\n",
      "col1                    \n",
      "A       5    1  1.581139\n",
      "B       8    6  1.000000\n",
      "C       9    0  6.363961\n",
      "\n",
      "col1\n",
      "A    5\n",
      "B    8\n",
      "C    9\n",
      "Name: max, dtype: int64\n"
     ]
    }
   ],
   "source": [
    "#Now we could do some selecting such as\n",
    "\n",
    "#All of column 2\n",
    "print(multi_g[\"col2\"])\n",
    "print(\"\")\n",
    "\n",
    "#Max of column 2\n",
    "print(multi_g[\"col2\"][\"max\"])"
   ]
  },
  {
   "cell_type": "code",
   "execution_count": 171,
   "metadata": {},
   "outputs": [
    {
     "data": {
      "text/html": [
       "<div>\n",
       "<style scoped>\n",
       "    .dataframe tbody tr th:only-of-type {\n",
       "        vertical-align: middle;\n",
       "    }\n",
       "\n",
       "    .dataframe tbody tr th {\n",
       "        vertical-align: top;\n",
       "    }\n",
       "\n",
       "    .dataframe thead th {\n",
       "        text-align: right;\n",
       "    }\n",
       "</style>\n",
       "<table border=\"1\" class=\"dataframe\">\n",
       "  <thead>\n",
       "    <tr style=\"text-align: right;\">\n",
       "      <th></th>\n",
       "      <th>col2_max</th>\n",
       "      <th>col2_min</th>\n",
       "      <th>col2_std</th>\n",
       "      <th>col3_size</th>\n",
       "      <th>col3_std</th>\n",
       "      <th>col3_mean</th>\n",
       "      <th>col3_max</th>\n",
       "    </tr>\n",
       "    <tr>\n",
       "      <th>col1</th>\n",
       "      <th></th>\n",
       "      <th></th>\n",
       "      <th></th>\n",
       "      <th></th>\n",
       "      <th></th>\n",
       "      <th></th>\n",
       "      <th></th>\n",
       "    </tr>\n",
       "  </thead>\n",
       "  <tbody>\n",
       "    <tr>\n",
       "      <th>A</th>\n",
       "      <td>5</td>\n",
       "      <td>1</td>\n",
       "      <td>1.581139</td>\n",
       "      <td>5</td>\n",
       "      <td>1.581139</td>\n",
       "      <td>-3.0</td>\n",
       "      <td>-1</td>\n",
       "    </tr>\n",
       "    <tr>\n",
       "      <th>B</th>\n",
       "      <td>8</td>\n",
       "      <td>6</td>\n",
       "      <td>1.000000</td>\n",
       "      <td>3</td>\n",
       "      <td>1.000000</td>\n",
       "      <td>-7.0</td>\n",
       "      <td>-6</td>\n",
       "    </tr>\n",
       "    <tr>\n",
       "      <th>C</th>\n",
       "      <td>9</td>\n",
       "      <td>0</td>\n",
       "      <td>6.363961</td>\n",
       "      <td>2</td>\n",
       "      <td>6.363961</td>\n",
       "      <td>-4.5</td>\n",
       "      <td>0</td>\n",
       "    </tr>\n",
       "  </tbody>\n",
       "</table>\n",
       "</div>"
      ],
      "text/plain": [
       "      col2_max  col2_min  col2_std  col3_size  col3_std  col3_mean  col3_max\n",
       "col1                                                                        \n",
       "A            5         1  1.581139          5  1.581139       -3.0        -1\n",
       "B            8         6  1.000000          3  1.000000       -7.0        -6\n",
       "C            9         0  6.363961          2  6.363961       -4.5         0"
      ]
     },
     "execution_count": 171,
     "metadata": {},
     "output_type": "execute_result"
    }
   ],
   "source": [
    "#We could also flatten the levels if we wanted\n",
    "multi_g.columns = [\"_\".join(col) for col in multi_g.columns]\n",
    "multi_g"
   ]
  },
  {
   "cell_type": "code",
   "execution_count": 172,
   "metadata": {},
   "outputs": [
    {
     "data": {
      "text/html": [
       "<div>\n",
       "<style scoped>\n",
       "    .dataframe tbody tr th:only-of-type {\n",
       "        vertical-align: middle;\n",
       "    }\n",
       "\n",
       "    .dataframe tbody tr th {\n",
       "        vertical-align: top;\n",
       "    }\n",
       "\n",
       "    .dataframe thead th {\n",
       "        text-align: right;\n",
       "    }\n",
       "</style>\n",
       "<table border=\"1\" class=\"dataframe\">\n",
       "  <thead>\n",
       "    <tr style=\"text-align: right;\">\n",
       "      <th></th>\n",
       "      <th>col1</th>\n",
       "      <th>col2</th>\n",
       "      <th>col3</th>\n",
       "      <th>col4</th>\n",
       "    </tr>\n",
       "  </thead>\n",
       "  <tbody>\n",
       "    <tr>\n",
       "      <th>0</th>\n",
       "      <td>A</td>\n",
       "      <td>1</td>\n",
       "      <td>-1</td>\n",
       "      <td>X</td>\n",
       "    </tr>\n",
       "    <tr>\n",
       "      <th>1</th>\n",
       "      <td>A</td>\n",
       "      <td>2</td>\n",
       "      <td>-2</td>\n",
       "      <td>X</td>\n",
       "    </tr>\n",
       "    <tr>\n",
       "      <th>2</th>\n",
       "      <td>A</td>\n",
       "      <td>3</td>\n",
       "      <td>-3</td>\n",
       "      <td>Y</td>\n",
       "    </tr>\n",
       "    <tr>\n",
       "      <th>3</th>\n",
       "      <td>A</td>\n",
       "      <td>4</td>\n",
       "      <td>-4</td>\n",
       "      <td>Y</td>\n",
       "    </tr>\n",
       "    <tr>\n",
       "      <th>4</th>\n",
       "      <td>A</td>\n",
       "      <td>5</td>\n",
       "      <td>-5</td>\n",
       "      <td>Y</td>\n",
       "    </tr>\n",
       "    <tr>\n",
       "      <th>5</th>\n",
       "      <td>B</td>\n",
       "      <td>6</td>\n",
       "      <td>-6</td>\n",
       "      <td>Y</td>\n",
       "    </tr>\n",
       "    <tr>\n",
       "      <th>6</th>\n",
       "      <td>B</td>\n",
       "      <td>7</td>\n",
       "      <td>-7</td>\n",
       "      <td>Y</td>\n",
       "    </tr>\n",
       "    <tr>\n",
       "      <th>7</th>\n",
       "      <td>B</td>\n",
       "      <td>8</td>\n",
       "      <td>-8</td>\n",
       "      <td>Y</td>\n",
       "    </tr>\n",
       "    <tr>\n",
       "      <th>8</th>\n",
       "      <td>C</td>\n",
       "      <td>9</td>\n",
       "      <td>-9</td>\n",
       "      <td>X</td>\n",
       "    </tr>\n",
       "    <tr>\n",
       "      <th>9</th>\n",
       "      <td>C</td>\n",
       "      <td>0</td>\n",
       "      <td>0</td>\n",
       "      <td>X</td>\n",
       "    </tr>\n",
       "  </tbody>\n",
       "</table>\n",
       "</div>"
      ],
      "text/plain": [
       "  col1  col2  col3 col4\n",
       "0    A     1    -1    X\n",
       "1    A     2    -2    X\n",
       "2    A     3    -3    Y\n",
       "3    A     4    -4    Y\n",
       "4    A     5    -5    Y\n",
       "5    B     6    -6    Y\n",
       "6    B     7    -7    Y\n",
       "7    B     8    -8    Y\n",
       "8    C     9    -9    X\n",
       "9    C     0     0    X"
      ]
     },
     "execution_count": 172,
     "metadata": {},
     "output_type": "execute_result"
    }
   ],
   "source": [
    "#We could even do a deeper groupby with two levels for the initial column\n",
    "g_df[\"col4\"] = ['X','X','Y','Y','Y','Y','Y','Y','X','X']\n",
    "g_df"
   ]
  },
  {
   "cell_type": "code",
   "execution_count": 173,
   "metadata": {},
   "outputs": [
    {
     "data": {
      "text/html": [
       "<div>\n",
       "<style scoped>\n",
       "    .dataframe tbody tr th:only-of-type {\n",
       "        vertical-align: middle;\n",
       "    }\n",
       "\n",
       "    .dataframe tbody tr th {\n",
       "        vertical-align: top;\n",
       "    }\n",
       "\n",
       "    .dataframe thead th {\n",
       "        text-align: right;\n",
       "    }\n",
       "</style>\n",
       "<table border=\"1\" class=\"dataframe\">\n",
       "  <thead>\n",
       "    <tr style=\"text-align: right;\">\n",
       "      <th></th>\n",
       "      <th></th>\n",
       "      <th>col2</th>\n",
       "      <th>col3</th>\n",
       "    </tr>\n",
       "    <tr>\n",
       "      <th>col1</th>\n",
       "      <th>col4</th>\n",
       "      <th></th>\n",
       "      <th></th>\n",
       "    </tr>\n",
       "  </thead>\n",
       "  <tbody>\n",
       "    <tr>\n",
       "      <th rowspan=\"2\" valign=\"top\">A</th>\n",
       "      <th>X</th>\n",
       "      <td>2</td>\n",
       "      <td>-1</td>\n",
       "    </tr>\n",
       "    <tr>\n",
       "      <th>Y</th>\n",
       "      <td>5</td>\n",
       "      <td>-3</td>\n",
       "    </tr>\n",
       "    <tr>\n",
       "      <th>B</th>\n",
       "      <th>Y</th>\n",
       "      <td>8</td>\n",
       "      <td>-6</td>\n",
       "    </tr>\n",
       "    <tr>\n",
       "      <th>C</th>\n",
       "      <th>X</th>\n",
       "      <td>9</td>\n",
       "      <td>0</td>\n",
       "    </tr>\n",
       "  </tbody>\n",
       "</table>\n",
       "</div>"
      ],
      "text/plain": [
       "           col2  col3\n",
       "col1 col4            \n",
       "A    X        2    -1\n",
       "     Y        5    -3\n",
       "B    Y        8    -6\n",
       "C    X        9     0"
      ]
     },
     "execution_count": 173,
     "metadata": {},
     "output_type": "execute_result"
    }
   ],
   "source": [
    "#Here we see grouping by two top columns\n",
    "multi_g2 = g_df.groupby(['col1', 'col4']).agg('max')\n",
    "multi_g2"
   ]
  },
  {
   "cell_type": "markdown",
   "metadata": {
    "toc-hr-collapsed": false
   },
   "source": [
    "### 3.5.3 Using groupby for a new variable"
   ]
  },
  {
   "cell_type": "markdown",
   "metadata": {},
   "source": [
    "Say we want to use the average 'Col2' for each group and have this as a new variable as 'av_col2_by_col1'. We need to take our result and turn it back into a series object so it can be easily used as a variable.\n",
    "\n",
    "The transform method returns an object that is indexed the same (same size) as the one being grouped. "
   ]
  },
  {
   "cell_type": "code",
   "execution_count": 174,
   "metadata": {},
   "outputs": [
    {
     "data": {
      "text/html": [
       "<div>\n",
       "<style scoped>\n",
       "    .dataframe tbody tr th:only-of-type {\n",
       "        vertical-align: middle;\n",
       "    }\n",
       "\n",
       "    .dataframe tbody tr th {\n",
       "        vertical-align: top;\n",
       "    }\n",
       "\n",
       "    .dataframe thead th {\n",
       "        text-align: right;\n",
       "    }\n",
       "</style>\n",
       "<table border=\"1\" class=\"dataframe\">\n",
       "  <thead>\n",
       "    <tr style=\"text-align: right;\">\n",
       "      <th></th>\n",
       "      <th>col1</th>\n",
       "      <th>col2</th>\n",
       "      <th>col3</th>\n",
       "      <th>col4</th>\n",
       "    </tr>\n",
       "  </thead>\n",
       "  <tbody>\n",
       "    <tr>\n",
       "      <th>0</th>\n",
       "      <td>A</td>\n",
       "      <td>1</td>\n",
       "      <td>-1</td>\n",
       "      <td>X</td>\n",
       "    </tr>\n",
       "    <tr>\n",
       "      <th>1</th>\n",
       "      <td>A</td>\n",
       "      <td>2</td>\n",
       "      <td>-2</td>\n",
       "      <td>X</td>\n",
       "    </tr>\n",
       "    <tr>\n",
       "      <th>2</th>\n",
       "      <td>A</td>\n",
       "      <td>3</td>\n",
       "      <td>-3</td>\n",
       "      <td>Y</td>\n",
       "    </tr>\n",
       "    <tr>\n",
       "      <th>3</th>\n",
       "      <td>A</td>\n",
       "      <td>4</td>\n",
       "      <td>-4</td>\n",
       "      <td>Y</td>\n",
       "    </tr>\n",
       "    <tr>\n",
       "      <th>4</th>\n",
       "      <td>A</td>\n",
       "      <td>5</td>\n",
       "      <td>-5</td>\n",
       "      <td>Y</td>\n",
       "    </tr>\n",
       "    <tr>\n",
       "      <th>5</th>\n",
       "      <td>B</td>\n",
       "      <td>6</td>\n",
       "      <td>-6</td>\n",
       "      <td>Y</td>\n",
       "    </tr>\n",
       "    <tr>\n",
       "      <th>6</th>\n",
       "      <td>B</td>\n",
       "      <td>7</td>\n",
       "      <td>-7</td>\n",
       "      <td>Y</td>\n",
       "    </tr>\n",
       "    <tr>\n",
       "      <th>7</th>\n",
       "      <td>B</td>\n",
       "      <td>8</td>\n",
       "      <td>-8</td>\n",
       "      <td>Y</td>\n",
       "    </tr>\n",
       "    <tr>\n",
       "      <th>8</th>\n",
       "      <td>C</td>\n",
       "      <td>9</td>\n",
       "      <td>-9</td>\n",
       "      <td>X</td>\n",
       "    </tr>\n",
       "    <tr>\n",
       "      <th>9</th>\n",
       "      <td>C</td>\n",
       "      <td>0</td>\n",
       "      <td>0</td>\n",
       "      <td>X</td>\n",
       "    </tr>\n",
       "  </tbody>\n",
       "</table>\n",
       "</div>"
      ],
      "text/plain": [
       "  col1  col2  col3 col4\n",
       "0    A     1    -1    X\n",
       "1    A     2    -2    X\n",
       "2    A     3    -3    Y\n",
       "3    A     4    -4    Y\n",
       "4    A     5    -5    Y\n",
       "5    B     6    -6    Y\n",
       "6    B     7    -7    Y\n",
       "7    B     8    -8    Y\n",
       "8    C     9    -9    X\n",
       "9    C     0     0    X"
      ]
     },
     "execution_count": 174,
     "metadata": {},
     "output_type": "execute_result"
    }
   ],
   "source": [
    "g_df"
   ]
  },
  {
   "cell_type": "code",
   "execution_count": 175,
   "metadata": {},
   "outputs": [
    {
     "data": {
      "text/html": [
       "<div>\n",
       "<style scoped>\n",
       "    .dataframe tbody tr th:only-of-type {\n",
       "        vertical-align: middle;\n",
       "    }\n",
       "\n",
       "    .dataframe tbody tr th {\n",
       "        vertical-align: top;\n",
       "    }\n",
       "\n",
       "    .dataframe thead th {\n",
       "        text-align: right;\n",
       "    }\n",
       "</style>\n",
       "<table border=\"1\" class=\"dataframe\">\n",
       "  <thead>\n",
       "    <tr style=\"text-align: right;\">\n",
       "      <th></th>\n",
       "      <th>col1</th>\n",
       "      <th>col2</th>\n",
       "      <th>col3</th>\n",
       "      <th>col4</th>\n",
       "      <th>av_col2_by_col1</th>\n",
       "    </tr>\n",
       "  </thead>\n",
       "  <tbody>\n",
       "    <tr>\n",
       "      <th>0</th>\n",
       "      <td>A</td>\n",
       "      <td>1</td>\n",
       "      <td>-1</td>\n",
       "      <td>X</td>\n",
       "      <td>3.0</td>\n",
       "    </tr>\n",
       "    <tr>\n",
       "      <th>1</th>\n",
       "      <td>A</td>\n",
       "      <td>2</td>\n",
       "      <td>-2</td>\n",
       "      <td>X</td>\n",
       "      <td>3.0</td>\n",
       "    </tr>\n",
       "    <tr>\n",
       "      <th>2</th>\n",
       "      <td>A</td>\n",
       "      <td>3</td>\n",
       "      <td>-3</td>\n",
       "      <td>Y</td>\n",
       "      <td>3.0</td>\n",
       "    </tr>\n",
       "    <tr>\n",
       "      <th>3</th>\n",
       "      <td>A</td>\n",
       "      <td>4</td>\n",
       "      <td>-4</td>\n",
       "      <td>Y</td>\n",
       "      <td>3.0</td>\n",
       "    </tr>\n",
       "    <tr>\n",
       "      <th>4</th>\n",
       "      <td>A</td>\n",
       "      <td>5</td>\n",
       "      <td>-5</td>\n",
       "      <td>Y</td>\n",
       "      <td>3.0</td>\n",
       "    </tr>\n",
       "    <tr>\n",
       "      <th>5</th>\n",
       "      <td>B</td>\n",
       "      <td>6</td>\n",
       "      <td>-6</td>\n",
       "      <td>Y</td>\n",
       "      <td>7.0</td>\n",
       "    </tr>\n",
       "    <tr>\n",
       "      <th>6</th>\n",
       "      <td>B</td>\n",
       "      <td>7</td>\n",
       "      <td>-7</td>\n",
       "      <td>Y</td>\n",
       "      <td>7.0</td>\n",
       "    </tr>\n",
       "    <tr>\n",
       "      <th>7</th>\n",
       "      <td>B</td>\n",
       "      <td>8</td>\n",
       "      <td>-8</td>\n",
       "      <td>Y</td>\n",
       "      <td>7.0</td>\n",
       "    </tr>\n",
       "    <tr>\n",
       "      <th>8</th>\n",
       "      <td>C</td>\n",
       "      <td>9</td>\n",
       "      <td>-9</td>\n",
       "      <td>X</td>\n",
       "      <td>4.5</td>\n",
       "    </tr>\n",
       "    <tr>\n",
       "      <th>9</th>\n",
       "      <td>C</td>\n",
       "      <td>0</td>\n",
       "      <td>0</td>\n",
       "      <td>X</td>\n",
       "      <td>4.5</td>\n",
       "    </tr>\n",
       "  </tbody>\n",
       "</table>\n",
       "</div>"
      ],
      "text/plain": [
       "  col1  col2  col3 col4  av_col2_by_col1\n",
       "0    A     1    -1    X              3.0\n",
       "1    A     2    -2    X              3.0\n",
       "2    A     3    -3    Y              3.0\n",
       "3    A     4    -4    Y              3.0\n",
       "4    A     5    -5    Y              3.0\n",
       "5    B     6    -6    Y              7.0\n",
       "6    B     7    -7    Y              7.0\n",
       "7    B     8    -8    Y              7.0\n",
       "8    C     9    -9    X              4.5\n",
       "9    C     0     0    X              4.5"
      ]
     },
     "execution_count": 175,
     "metadata": {},
     "output_type": "execute_result"
    }
   ],
   "source": [
    "g_df['av_col2_by_col1'] = g_df.groupby('col1')[\"col2\"].transform('mean')\n",
    "g_df"
   ]
  },
  {
   "cell_type": "markdown",
   "metadata": {
    "toc-hr-collapsed": false
   },
   "source": [
    "# 4. Introduction to linear algebra"
   ]
  },
  {
   "cell_type": "markdown",
   "metadata": {},
   "source": [
    "Linear algebra is a huge topic in and of itself. Do not worry about going too deeply into this, but you will need to know (at the very least) matrix multiplication and derivitives."
   ]
  },
  {
   "cell_type": "markdown",
   "metadata": {},
   "source": [
    "<h3 align=\"center\"> Why Math?</h3>\n",
    "<img src=\"https://s3-ap-southeast-2.amazonaws.com/mdsi-deep-learn-aut-19/linear_alg_ironman.jpg\" width=\"450\" height=\"450\"/>\n",
    "<style>\n",
    " img {\n",
    "    vertical-align: middle;\n",
    "}\n",
    "</style>"
   ]
  },
  {
   "cell_type": "markdown",
   "metadata": {},
   "source": [
    "## 4.1 Key topics"
   ]
  },
  {
   "cell_type": "markdown",
   "metadata": {},
   "source": [
    "* Matrices Intro\n",
    "    * What is a matrix (compared to scalar, vector)\n",
    "    * Matrix (matrix-vector) multiplication\n",
    "* Matrix derivatives\n",
    "    * How to differentiate a matrix? What is the 'Jacobian'"
   ]
  },
  {
   "cell_type": "markdown",
   "metadata": {},
   "source": [
    "## 4.2 Resources"
   ]
  },
  {
   "cell_type": "markdown",
   "metadata": {},
   "source": [
    "Some resources:\n",
    "\n",
    "* https://explained.ai/matrix-calculus/index.html\n",
    "    * This is extensive and you can skim large chunks, however you can read:\n",
    "        * From 'Review: Scalar derivative rules' (the above we will cover in class) to the end of 'Generalization of the Jacobian'. Then you are allowed to skim ;)\n",
    "        * Though of course I recommend doing as much as you can!\n",
    "        * Here is the arXiv entry if you want a pdf https://arxiv.org/abs/1802.01528v2\n",
    "* https://www.deeplearningbook.org/contents/linear_algebra.html\n",
    "    * A concise overview of relevant linear algebra terms and concepts. From 2.7 onwards is not as vital but before that it is important.\n",
    "* http://d2l.ai/chapter_crashcourse/linear-algebra.html\n",
    "    * A more practical overview with code examples. \n",
    "* https://the-learning-machine.com/article/machine-learning/linear-algebra\n",
    "    * This resource is quite extensive and there is is a lot in there not as super relevant. This is highly visual and well explained. I would recommend working through the terminology of the first/second resources and looking it up in this resource to see if there are visuals or an alternate explanation to cement the concept.\n"
   ]
  },
  {
   "cell_type": "code",
   "execution_count": null,
   "metadata": {},
   "outputs": [],
   "source": []
  }
 ],
 "metadata": {
  "kernelspec": {
   "display_name": "Python 3",
   "language": "python",
   "name": "python3"
  },
  "language_info": {
   "codemirror_mode": {
    "name": "ipython",
    "version": 3
   },
   "file_extension": ".py",
   "mimetype": "text/x-python",
   "name": "python",
   "nbconvert_exporter": "python",
   "pygments_lexer": "ipython3",
   "version": "3.6.5"
  },
  "toc-autonumbering": false
 },
 "nbformat": 4,
 "nbformat_minor": 2
}
