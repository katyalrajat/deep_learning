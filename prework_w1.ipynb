{
 "cells": [
  {
   "cell_type": "markdown",
   "metadata": {
    "toc-hr-collapsed": false
   },
   "source": [
    "# 1. Packages and Data"
   ]
  },
  {
   "cell_type": "markdown",
   "metadata": {},
   "source": [
    "## 1.1 Packages"
   ]
  },
  {
   "cell_type": "code",
   "execution_count": 9,
   "metadata": {},
   "outputs": [],
   "source": [
    "# Standard data libraries\n",
    "import pandas as pd\n",
    "import numpy as np\n",
    "import matplotlib.pyplot as plt\n",
    "\n",
    "# Ipython libraries\n",
    "from IPython.display import Image\n",
    "from IPython.core.display import HTML"
   ]
  },
  {
   "cell_type": "markdown",
   "metadata": {},
   "source": [
    "## 1.2 Data"
   ]
  },
  {
   "cell_type": "markdown",
   "metadata": {},
   "source": [
    "Some of you coming from an R world may find this package useful for getting in some toy datasets to play with:\n",
    "\n",
    "* https://stackoverflow.com/questions/16579407/are-there-any-example-data-sets-for-python\n",
    "\n",
    "Some of the classics are also available in this Scikit Learn module. Though I will warn to be careful not to side track too much into the Scikit Learn ML side of things just now.\n",
    "\n",
    "* https://scikit-learn.org/stable/datasets/index.html\n"
   ]
  },
  {
   "cell_type": "markdown",
   "metadata": {
    "toc-hr-collapsed": true
   },
   "source": [
    "# 2. Introduction"
   ]
  },
  {
   "cell_type": "markdown",
   "metadata": {},
   "source": [
    "Now we get into the thick of things! In the previous week you got a basic grasp for what Python is and how to do some basic programming tasks with it. This week we have a few core learning objectives\n",
    "\n",
    "1. Data analysis in Python (Numpy & Pandas)\n",
    "2. Calculus (...Calculus)\n",
    "3. (bonus) Data Viz in python"
   ]
  },
  {
   "cell_type": "markdown",
   "metadata": {},
   "source": [
    "The first is important so you can quickly undertake the EDA section of your ML projects as well as manipulate and analyse your data. This will be covered in more depth later, but Deep Learning is no different in many aspects of the standard ML end-to-end project framework. Similarly, point (3) will also assist in you quickly getting insights and understanding not only your data but the modelling process. We will cover some specific (and cool!) libraries and packages for visualising Neural Networks later in the course, but there are some classic libraries that are powerful and useful which are good to get a basic handling on now."
   ]
  },
  {
   "cell_type": "markdown",
   "metadata": {},
   "source": [
    "The inclusion of calculus is important if we are to really get under the hood of these Deep Learning algorithms and understand what is going on. Calculus plays a crucial role in what makes Neural Networks work which we will cover in the first week of class. Therefore to best prepare ourseleves to apply and understand the use of calculus in deep learning, it is a good idea to get a bit of background in it. \n",
    "\n",
    "Also - understanding a bit more of the math underneath these things puts you at a distinct advantage over many who just jump straight to the 'fun stuff'.\n",
    "\n",
    "And this:"
   ]
  },
  {
   "cell_type": "markdown",
   "metadata": {},
   "source": [
    "<h3 align=\"center\"> How many people approach Deep Learning</h3>\n",
    "<img src=\"https://s3-ap-southeast-2.amazonaws.com/mdsi-deep-learn-aut-19/math_trumpet.jpg\" width=\"250\" height=\"250\"/>\n",
    "<style>\n",
    " img {\n",
    "    vertical-align: middle;\n",
    "}\n",
    "</style>"
   ]
  },
  {
   "cell_type": "markdown",
   "metadata": {
    "toc-hr-collapsed": true
   },
   "source": [
    "# 3. Introduction to numpy"
   ]
  },
  {
   "cell_type": "markdown",
   "metadata": {},
   "source": [
    "## 3.1 Key topics"
   ]
  },
  {
   "cell_type": "markdown",
   "metadata": {},
   "source": [
    "* Understand what numpy is, how it works, what it is used for\n",
    "* The numpy array\n",
    "    * Create a 1-dimensional array\n",
    "    * Perform basic operations (sum, mean, sd, exponentials)\n",
    "    * Extract from the array (single element, slicing, conditionally)\n",
    "    * Perform operations on the entire array\n",
    "    * Understand the need for .shape and .reshape (the dangers of rank 1 arrays)\n",
    "    * Extending the above to n-dimensional arrays\n",
    "        * Key terms: 'rank' and 'shape' of an array\n",
    "* Broadcasting"
   ]
  },
  {
   "cell_type": "markdown",
   "metadata": {},
   "source": [
    "Some resources that will assist with this learning:\n",
    "\n",
    "* http://cs231n.github.io/python-numpy-tutorial/\n",
    "    * Skip to the numpy section, though the top is a nice summary of key python programming skills\n",
    "    * Pay particular attention to the broadcasting section\n",
    "* https://www.datacamp.com/courses/intro-to-python-for-data-science \n",
    "    * Chapter 4\n",
    "* https://jakevdp.github.io/PythonDataScienceHandbook/\n",
    "    * Chapter 2\n",
    "* https://www.machinelearningplus.com/python/101-numpy-exercises-python/\n",
    "    * Once you have made some notes, feel free to work through these exercises to test your skills!"
   ]
  },
  {
   "cell_type": "markdown",
   "metadata": {
    "toc-hr-collapsed": true
   },
   "source": [
    "# 4. Introduction to pandas"
   ]
  },
  {
   "cell_type": "markdown",
   "metadata": {},
   "source": [
    "Pandas is quite a large and important topic for data science in python so I have split it over two weeks. However feel free to run ahead and keep working on pandas things. It will be very useful to have your own notebook of useful scripts and functions in pandas to refer back to when you want to do something. I will clean up one of my own personal notebooks and publish to show you what I use. These notebooks will be your own and you will build upon regularly. Every time you google something, you should add an example to your notebooks (perhaps with the link) so you can easily find and refer back."
   ]
  },
  {
   "cell_type": "markdown",
   "metadata": {},
   "source": [
    "## 4.1 Key topics"
   ]
  },
  {
   "cell_type": "markdown",
   "metadata": {},
   "source": [
    "* Different ways to create a dataframe\n",
    "    * Reading in various data types \n",
    "    * From lists\n",
    "    * From dictionaries\n",
    "    * Attributes vs methods\n",
    "* The series object - going from a series to a dataframe\n",
    "* Basic useful things:\n",
    "    * Summary stats (Shape, describe, info)\n",
    "    * Useful math methods (.corr, min, max, mean, median, var, std etc)\n",
    "    * Working with strings and dates"
   ]
  },
  {
   "cell_type": "markdown",
   "metadata": {},
   "source": [
    "Some useful resources for pandas:\n",
    "\n",
    "* https://www.datacamp.com/courses/intermediate-python-for-data-science\n",
    "    * Chapter 2 and the back end of chapter 3\n",
    "* https://jakevdp.github.io/PythonDataScienceHandbook/\n",
    "    * Chapter 3\n",
    "\n",
    "I would strongly recommend simply going through the pandas documentation and making notes and examples on all the useful elements. This does take a bit of time and you will not be able to do it all at once, but at least getting yourself familiar with what is in there will be very useful.\n",
    "\n",
    "* https://pandas.pydata.org/pandas-docs/stable/reference/series.html\n",
    "    * The pandas series reference documentation\n",
    "* https://pandas.pydata.org/pandas-docs/stable/reference/frame.html\n",
    "    * The pandas dataframe reference documentation"
   ]
  },
  {
   "cell_type": "markdown",
   "metadata": {
    "toc-hr-collapsed": true
   },
   "source": [
    "## 4.2 A gift to you"
   ]
  },
  {
   "cell_type": "markdown",
   "metadata": {},
   "source": [
    "I have also included one of my own notebooks for basic Pandas things that I created from some of these resources and others online. Please note importantly **THIS IS NOT a teaching resource**. I really hesitated on whether to share this or not as I believe strongly:"
   ]
  },
  {
   "cell_type": "markdown",
   "metadata": {},
   "source": [
    "<h4 align=\"center\"> You need to make <i>your own</i> notebooks</h3>"
   ]
  },
  {
   "cell_type": "markdown",
   "metadata": {},
   "source": [
    "<h4 align=\"center\"> That are in <i>your</i> words </h4>"
   ]
  },
  {
   "cell_type": "markdown",
   "metadata": {},
   "source": [
    "<h4 align=\"center\"> And have <i>your</i> code</h4>"
   ]
  },
  {
   "cell_type": "markdown",
   "metadata": {},
   "source": [
    "Else this is no different to just copying and pasting the resources listed above. You need the muscle memory (and actual memories) of doing this stuff yourself.\n",
    "\n",
    "I came down on the side of including this notebook to show you how I like to keep my notes and decided against doing too much clean up as this is not an end product, but an evolving document. Whenever I get time I like to go back, work on these, update, add more exercises etc. Especially as new content and packages are released and I solve some tricky or fiddly data manipulation/wrangling in a project I am working on.\n",
    "\n",
    "It is included in this directory and called `pandas_notes_1`\n",
    "\n",
    "I will emphasise this again so it really sticks:"
   ]
  },
  {
   "cell_type": "markdown",
   "metadata": {},
   "source": [
    "<h3 align=\"center\"> This is <b>not</b> a teaching resource</h3>\n",
    "<h4 align=\"center\"> This is one of my personal notebooks for your interest</h4>"
   ]
  },
  {
   "cell_type": "markdown",
   "metadata": {},
   "source": [
    "So don't stress if it all doesn't make sense or is a bit short and sharp. It is written for me to refer back to. I hope you find it useful as you make your own notebooks that will be an important and everlasting valuable resource for your future ML work :) "
   ]
  },
  {
   "cell_type": "markdown",
   "metadata": {
    "toc-hr-collapsed": true
   },
   "source": [
    "## 4.3 Pandas Profiling"
   ]
  },
  {
   "cell_type": "markdown",
   "metadata": {},
   "source": [
    "<h4 align=\"center\"> <b>NOTE: <b>You will need to install this package, see github link </h4>"
   ]
  },
  {
   "cell_type": "markdown",
   "metadata": {},
   "source": [
    "Have you ever thought that some of this EDA work could be automated - well look no further! Tip of the hat to Anthony So for introducing me to this package."
   ]
  },
  {
   "cell_type": "markdown",
   "metadata": {},
   "source": [
    "This useful package generates profile reports from a pandas DataFrame. \n",
    "\n",
    "For each column the following statistics - if relevant for the column type - are presented in an interactive HTML report:\n",
    "\n",
    "* Essentials: type, unique values, missing values\n",
    "* Quantile statistics like minimum value, Q1, median, Q3, maximum, range, interquartile range\n",
    "* Descriptive statistics like mean, mode, standard deviation, sum, median absolute deviation, coefficient of variation, kurtosis, skewness\n",
    "* Most frequent values\n",
    "* Histogram\n",
    "* Correlations highlighting of highly correlated variables, Spearman and Pearson matrixes\n",
    "\n",
    "More info here https://github.com/pandas-profiling/pandas-profiling/blob/master/README.md"
   ]
  },
  {
   "cell_type": "markdown",
   "metadata": {},
   "source": [
    "### 4.3.1 Import Package + Data"
   ]
  },
  {
   "cell_type": "code",
   "execution_count": 10,
   "metadata": {},
   "outputs": [],
   "source": [
    "import pandas_profiling\n",
    "import pandas as pd\n",
    "import numpy as np"
   ]
  },
  {
   "cell_type": "code",
   "execution_count": 3,
   "metadata": {},
   "outputs": [],
   "source": [
    "#Set the data file path\n",
    "import os\n",
    "data_dir = os.path.dirname(os.getcwd()) + \"/datasets\""
   ]
  },
  {
   "cell_type": "code",
   "execution_count": 4,
   "metadata": {},
   "outputs": [
    {
     "name": "stdout",
     "output_type": "stream",
     "text": [
      "(6497, 14)\n"
     ]
    }
   ],
   "source": [
    "#We will import a toy dataset. Various chemical levels and a quality (target) variable for white and red wines\n",
    "wine = pd.read_csv(data_dir + \"/wine-total.csv\")\n",
    "#There are around 6.5k rows and 14 variables. \n",
    "print(wine.shape)"
   ]
  },
  {
   "cell_type": "markdown",
   "metadata": {},
   "source": [
    "### 4.3.2 Save out profile to html"
   ]
  },
  {
   "cell_type": "code",
   "execution_count": 5,
   "metadata": {},
   "outputs": [],
   "source": [
    "#We can save out the profile to an html file if we want\n",
    "profile = pandas_profiling.ProfileReport(wine)\n",
    "profile.to_file(outputfile=\"wine_profile.html\")"
   ]
  },
  {
   "cell_type": "markdown",
   "metadata": {},
   "source": [
    "### 4.3.3 Run profile in notebook"
   ]
  },
  {
   "cell_type": "code",
   "execution_count": 6,
   "metadata": {
    "toc-hr-collapsed": true
   },
   "outputs": [],
   "source": [
    "#Note currently commented out as doesn't look great on this (dark) theme. \n",
    "# pandas_profiling.ProfileReport(wine)"
   ]
  },
  {
   "cell_type": "markdown",
   "metadata": {
    "toc-hr-collapsed": true
   },
   "source": [
    "# 5. Introduction to calculus"
   ]
  },
  {
   "cell_type": "markdown",
   "metadata": {},
   "source": [
    "Calculus itself is a **huge** topic so don't feel like I am asking you to know 'Calculus' (the whole thing) in a week. Really what I want you to become familiar with is just the basics and only really *differentiation* and pay special attention to the chain rule as it will become important later. Next week we will use calculus to differentiate matrices so having the basics down this week is important."
   ]
  },
  {
   "cell_type": "markdown",
   "metadata": {},
   "source": [
    "## 5.1 Key topics"
   ]
  },
  {
   "cell_type": "markdown",
   "metadata": {},
   "source": [
    "* What is a derivative, why do we care?\n",
    "    * Derivatives and gradients, how do they link?\n",
    "* Special focus on the chain rule"
   ]
  },
  {
   "cell_type": "markdown",
   "metadata": {},
   "source": [
    "## 5.2 Resources"
   ]
  },
  {
   "cell_type": "markdown",
   "metadata": {},
   "source": [
    "Some resources:\n",
    "\n",
    "* https://the-learning-machine.com/article/machine-learning/calculus\n",
    "    * This is a very thorough and nice introduction to calculus in general\n",
    "    * I would recommend reading through this entire page. However don't really worry about the trig examples (sin, cos etc), nor too much about area under the curve (integration) and the multivariate section (for this week)\n",
    "    * The multivariate calculus section is great reading for next week so I would recommend it even as a primer. The *Hessian* is a useful term to know for next week. \n",
    "        * Though don't worry too much about the sections Rosenbrock's function, Himmelblaus function though they are interesting. \n",
    "        * Similarly, the math gets a little hairy around the 'Detecting minima, maxima, and saddle points' section so feel free to glaze over that until you get to 'Computing derivatives' which is important. \n",
    "* https://www.youtube.com/watch?v=rAof9Ld5sOg\n",
    "    * A nice intro to what differentiation is. This is moving towards the formal definition using limits. Don't worry too much about that but mainly understand what differentiation is and why we care about it.\n",
    "* https://www.youtube.com/watch?v=BcOPKQAZcn0\n",
    "    * This is a nice walkthrough of basic differentiation. Don't worry too much about the end when she starts going towards the second derivative.\n",
    "* https://www.youtube.com/watch?v=DYb-AN-lK94\n",
    "    * Formal definition of the chain rule. Notice how we are using this when another function is 'hidden' inside another? That is important!\n",
    "* https://www.youtube.com/watch?v=H-ybCx8gt-8\n",
    "    * Nice intro and walk through of the chain rule\n",
    "* https://www.youtube.com/watch?v=U0m4MsOgETw\n",
    "    * Eddie woo is great at explaining concepts so his videos are worth a watch."
   ]
  },
  {
   "cell_type": "markdown",
   "metadata": {},
   "source": [
    "You don't necessarily need to do too many notes and examples on this topic but understanding differentiation and especially what the chain rule is and why it matters is the concept you should have"
   ]
  },
  {
   "cell_type": "markdown",
   "metadata": {
    "toc-hr-collapsed": true
   },
   "source": [
    "# 6. Data Viz in python"
   ]
  },
  {
   "cell_type": "markdown",
   "metadata": {},
   "source": [
    "This is very much an 'extra' topic so don't feel stressed to get on top of this. You can use whatever tools needed to visualise and explore your data. Though of course doing exploration and viz all in the one place is nice. Since you will need to submit notebooks for some assignments, this will be quite useful as you tell your data story."
   ]
  },
  {
   "cell_type": "markdown",
   "metadata": {},
   "source": [
    "## 6.1 Key topics"
   ]
  },
  {
   "cell_type": "markdown",
   "metadata": {},
   "source": [
    "* Technologies:\n",
    "    * Matplotlib\n",
    "    * Seaborn\n",
    "    * Bokeh\n",
    "* Graph types\n",
    "    * There are tonnes of graph types and this course is not a data viz course, so just getting down the basic bar, scatter, line etc graphs would be a good start and then come back later to work on fancy things for a specific use case."
   ]
  },
  {
   "cell_type": "markdown",
   "metadata": {},
   "source": [
    "## 6.2 Resources"
   ]
  },
  {
   "cell_type": "markdown",
   "metadata": {},
   "source": [
    "Some resources to help with this content:\n",
    "\n",
    "* https://jakevdp.github.io/PythonDataScienceHandbook/\n",
    "    * Chapter 4 for an introduction to Matplotlib\n",
    "* https://www.datacamp.com/courses/intermediate-python-for-data-science\n",
    "    * Chapter 1 for an introduction to Matplotlib as well\n",
    "* https://www.datacamp.com/courses/data-visualization-with-seaborn\n",
    "    * Good overview of seaborn\n",
    "* https://www.datacamp.com/courses/interactive-data-visualization-with-bokeh\n",
    "    * Bokeh"
   ]
  },
  {
   "cell_type": "markdown",
   "metadata": {},
   "source": [
    "<h2 align=\"center\"> That's all for this week - see you next week!</h2>"
   ]
  }
 ],
 "metadata": {
  "kernelspec": {
   "display_name": "Python 3",
   "language": "python",
   "name": "python3"
  },
  "language_info": {
   "codemirror_mode": {
    "name": "ipython",
    "version": 3
   },
   "file_extension": ".py",
   "mimetype": "text/x-python",
   "name": "python",
   "nbconvert_exporter": "python",
   "pygments_lexer": "ipython3",
   "version": "3.6.5"
  },
  "toc-autonumbering": false
 },
 "nbformat": 4,
 "nbformat_minor": 2
}
