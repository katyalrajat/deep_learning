{
 "cells": [
  {
   "cell_type": "markdown",
   "metadata": {
    "toc-hr-collapsed": false
   },
   "source": [
    "## Note: Pandas & Series"
   ]
  },
  {
   "cell_type": "markdown",
   "metadata": {},
   "source": [
    "It is important to remember that pandas is made up of 'series'. Which is a one-dimensional labeled array capable of holding data of any type (integer, string, float, python objects, etc.). The axis labels are collectively called index. \n",
    "\n",
    "Therefore some of the methods and attributes mentioned in here are for the 'series' of one of the pandas columns and some are for the dataframe itself. \n",
    "\n",
    "Here is a list of what is available:\n",
    "https://pandas.pydata.org/pandas-docs/stable/api.html#computations-descriptive-stats"
   ]
  },
  {
   "cell_type": "markdown",
   "metadata": {
    "toc-hr-collapsed": false
   },
   "source": [
    "## 0. Import packages & Data"
   ]
  },
  {
   "cell_type": "code",
   "execution_count": 10,
   "metadata": {},
   "outputs": [],
   "source": [
    "#First import pandas library\n",
    "import pandas as pd\n",
    "#Also import numpy as useful later\n",
    "import numpy as np"
   ]
  },
  {
   "cell_type": "code",
   "execution_count": 11,
   "metadata": {},
   "outputs": [],
   "source": [
    "import os"
   ]
  },
  {
   "cell_type": "code",
   "execution_count": 7,
   "metadata": {},
   "outputs": [],
   "source": [
    "#For displaying tables nicer (side by side etc)\n",
    "from IPython.display import display_html "
   ]
  },
  {
   "cell_type": "code",
   "execution_count": 12,
   "metadata": {},
   "outputs": [],
   "source": [
    "data_dir = os.getcwd() + \"/datasets\""
   ]
  },
  {
   "cell_type": "markdown",
   "metadata": {},
   "source": [
    "Some useful parameters for the read.csv could be:\n",
    "\n",
    "* usecols = which columns to take"
   ]
  },
  {
   "cell_type": "code",
   "execution_count": 14,
   "metadata": {
    "collapsed": true
   },
   "outputs": [
    {
     "data": {
      "text/plain": [
       "(6497, 14)"
      ]
     },
     "execution_count": 14,
     "metadata": {},
     "output_type": "execute_result"
    }
   ],
   "source": [
    "# Note that we could set the index_col in the read in\n",
    "\n",
    "# Read in the wine data\n",
    "# https://archive.ics.uci.edu/ml/datasets/wine\n",
    "\n",
    "wine = pd.read_csv(data_dir + \"/wine-total.csv\")\n",
    "wine.shape"
   ]
  },
  {
   "cell_type": "markdown",
   "metadata": {
    "toc-hr-collapsed": false
   },
   "source": [
    "## 1 Create a Dataframe"
   ]
  },
  {
   "cell_type": "markdown",
   "metadata": {},
   "source": [
    "### 1.1 List to Dict to DF"
   ]
  },
  {
   "cell_type": "code",
   "execution_count": 4,
   "metadata": {},
   "outputs": [
    {
     "name": "stdout",
     "output_type": "stream",
     "text": [
      "         country  drives_right  cars_per_cap\n",
      "0  United States          True           809\n",
      "1      Australia         False           731\n",
      "2          Japan         False           588\n",
      "3          India         False            18\n",
      "4         Russia          True           200\n",
      "5        Morocco          True            70\n",
      "6          Egypt          True            45\n"
     ]
    }
   ],
   "source": [
    "#Here is an interesting example where we set the row_labels \n",
    "# Build cars DataFrame\n",
    "names = ['United States', 'Australia', 'Japan', 'India', 'Russia', 'Morocco', 'Egypt']\n",
    "dr =  [True, False, False, False, True, True, True]\n",
    "cpc = [809, 731, 588, 18, 200, 70, 45]\n",
    "dict = { 'country':names, 'drives_right':dr, 'cars_per_cap':cpc }\n",
    "cars = pd.DataFrame(dict)\n",
    "print(cars)"
   ]
  },
  {
   "cell_type": "markdown",
   "metadata": {},
   "source": [
    "### 1.2 Lists straight to df, setting columns"
   ]
  },
  {
   "cell_type": "code",
   "execution_count": 5,
   "metadata": {},
   "outputs": [
    {
     "name": "stdout",
     "output_type": "stream",
     "text": [
      "         country  drives_right  cars_per_cap\n",
      "0  United States          True           809\n",
      "1      Australia         False           731\n",
      "2          Japan         False           588\n",
      "3          India         False            18\n",
      "4         Russia          True           200\n",
      "5        Morocco          True            70\n",
      "6          Egypt          True            45\n"
     ]
    }
   ],
   "source": [
    "names = ['United States', 'Australia', 'Japan', 'India', 'Russia', 'Morocco', 'Egypt']\n",
    "dr =  [True, False, False, False, True, True, True]\n",
    "cpc = [809, 731, 588, 18, 200, 70, 45]\n",
    "headers = ['country', 'drives_right', 'cars_per_cap']\n",
    "combined_list = list(zip(names, dr,cpc))\n",
    "cars2 = pd.DataFrame(combined_list, columns=headers)\n",
    "print(cars2)"
   ]
  },
  {
   "cell_type": "markdown",
   "metadata": {},
   "source": [
    "### 1.3 Setting row labels"
   ]
  },
  {
   "cell_type": "code",
   "execution_count": 6,
   "metadata": {},
   "outputs": [
    {
     "name": "stdout",
     "output_type": "stream",
     "text": [
      "           country  drives_right  cars_per_cap\n",
      "US   United States          True           809\n",
      "AUS      Australia         False           731\n",
      "JAP          Japan         False           588\n",
      "IN           India         False            18\n",
      "RU          Russia          True           200\n",
      "MOR        Morocco          True            70\n",
      "EG           Egypt          True            45\n"
     ]
    }
   ],
   "source": [
    "# Definition of row_labels\n",
    "row_labels = ['US', 'AUS', 'JAP', 'IN', 'RU', 'MOR', 'EG']\n",
    "# Specify row labels of cars\n",
    "cars.index = row_labels\n",
    "# Print cars again\n",
    "print(cars)\n",
    "#Note that setting the index_col = 0 when importing this will set the labels as we have done above"
   ]
  },
  {
   "cell_type": "markdown",
   "metadata": {},
   "source": [
    "### 1.4 Attributes vs Methods"
   ]
  },
  {
   "cell_type": "markdown",
   "metadata": {},
   "source": [
    "An important distinction is between attributes and methods.\n",
    "\n",
    "* Attributes are accessed by the dot (df.attribute) and DO NOT require brackets\n",
    "* Methods are calling a function and hence do require the brackets. \n",
    "\n",
    "See below the difference between .shape and .describe()"
   ]
  },
  {
   "cell_type": "code",
   "execution_count": 9,
   "metadata": {},
   "outputs": [
    {
     "data": {
      "text/plain": [
       "453"
      ]
     },
     "execution_count": 9,
     "metadata": {},
     "output_type": "execute_result"
    }
   ],
   "source": [
    "# Note that we can find all the available attributes and methods of an object using dir\n",
    "len(dir(cars2))\n",
    "# As we can see there are many available"
   ]
  },
  {
   "cell_type": "markdown",
   "metadata": {
    "toc-hr-collapsed": true
   },
   "source": [
    "### 1.5 Type Conversions"
   ]
  },
  {
   "cell_type": "markdown",
   "metadata": {},
   "source": [
    "#### 1.5.1 Numeric"
   ]
  },
  {
   "cell_type": "code",
   "execution_count": 10,
   "metadata": {},
   "outputs": [],
   "source": [
    "#See how we have some strings here?\n",
    "s = pd.Series(['1.0', '2', -3])\n",
    "\n",
    "#Let us do a default conversion\n",
    "num1 = pd.to_numeric(s)\n",
    "\n",
    "#There is an option to 'downcast' \n",
    "num2 = pd.to_numeric(s, downcast='float')\n",
    "num3 = pd.to_numeric(s, downcast='integer')\n",
    "\n",
    "#We can ask it to ignore errors for attempting to cast strings into numerical\n",
    "s2 = pd.Series(['apple', '1.0', '2', -3])\n",
    "num4 =  pd.to_numeric(s2, errors='ignore')\n",
    "\n",
    "#Or we can force a conversion which will result in NaN\n",
    "num5 = pd.to_numeric(s2, errors='coerce')"
   ]
  },
  {
   "cell_type": "code",
   "execution_count": 11,
   "metadata": {},
   "outputs": [
    {
     "name": "stdout",
     "output_type": "stream",
     "text": [
      "0    1.0\n",
      "1    2.0\n",
      "2   -3.0\n",
      "dtype: float64 \n",
      " 0    1.0\n",
      "1    2.0\n",
      "2   -3.0\n",
      "dtype: float32 \n",
      " 0    1\n",
      "1    2\n",
      "2   -3\n",
      "dtype: int8 \n",
      " 0    apple\n",
      "1      1.0\n",
      "2        2\n",
      "3       -3\n",
      "dtype: object \n",
      " 0    NaN\n",
      "1    1.0\n",
      "2    2.0\n",
      "3   -3.0\n",
      "dtype: float64\n"
     ]
    }
   ],
   "source": [
    "print(num1, \"\\n\", num2, \"\\n\", num3, \"\\n\", num4, \"\\n\", num5)"
   ]
  },
  {
   "cell_type": "markdown",
   "metadata": {
    "toc-hr-collapsed": true
   },
   "source": [
    "#### 1.5.2 Datetime"
   ]
  },
  {
   "cell_type": "markdown",
   "metadata": {},
   "source": [
    "The to_datetime function has a lot of configuration options, however the classic is the strftime option to set the exact date format.\n",
    "\n",
    "Note this can be quite computationally expensive from experience."
   ]
  },
  {
   "cell_type": "code",
   "execution_count": 12,
   "metadata": {},
   "outputs": [
    {
     "name": "stdout",
     "output_type": "stream",
     "text": [
      "<class 'pandas.core.frame.DataFrame'>\n",
      "Index: 7 entries, US to EG\n",
      "Data columns (total 4 columns):\n",
      "country         7 non-null object\n",
      "drives_right    7 non-null bool\n",
      "cars_per_cap    7 non-null int64\n",
      "dates           7 non-null object\n",
      "dtypes: bool(1), int64(1), object(2)\n",
      "memory usage: 231.0+ bytes\n"
     ]
    }
   ],
   "source": [
    "cars[\"dates\"] = ['2015-01-04','2015-02-04','2017-01-04',\n",
    "                 '2015-01-14','2015-01-24','2015-01-10',\n",
    "                 '2016-01-04']\n",
    "cars.info() #Notice how this is an object?"
   ]
  },
  {
   "cell_type": "code",
   "execution_count": null,
   "metadata": {},
   "outputs": [],
   "source": [
    "cars[\"dates\"] = pd.to_datetime(cars[\"dates\"], infer_datetime_format=True)\n",
    "cars.info() #Now we have a datetime"
   ]
  },
  {
   "cell_type": "code",
   "execution_count": null,
   "metadata": {},
   "outputs": [],
   "source": [
    "sample = cars.iloc[0:1, 4][0]\n",
    "print(sample,\"\\n\", sample.year, sample.month, sample.day)\n",
    "#Here we can see it has worked correctly"
   ]
  },
  {
   "cell_type": "code",
   "execution_count": null,
   "metadata": {},
   "outputs": [],
   "source": [
    "#Therefore we could create a new column out of the dateparts\n",
    "cars[\"month\"] = pd.DatetimeIndex(cars[\"dates\"]).month\n",
    "cars"
   ]
  },
  {
   "cell_type": "code",
   "execution_count": null,
   "metadata": {},
   "outputs": [],
   "source": [
    "#We can also add time to datetime objects now\n",
    "cars[\"new_dates\"] = (cars[\"dates\"] + pd.Timedelta(weeks=52))\n",
    "cars"
   ]
  },
  {
   "cell_type": "markdown",
   "metadata": {},
   "source": [
    "#### 1.5.3 Other (astype)"
   ]
  },
  {
   "cell_type": "markdown",
   "metadata": {},
   "source": [
    "It is also possible to simply use the df.astype() function. This asks for the following:\n",
    "\n",
    "* dtype\n",
    "    * object, int64, float64, datetime64, bool\n",
    "* copy\n",
    "    * Whether to return a copy. Default is true.\n",
    "\n",
    "A good example is here http://pbpython.com/pandas_dtypes.html"
   ]
  },
  {
   "cell_type": "markdown",
   "metadata": {},
   "source": [
    "Note there is also a 'category' data type that has some benefits for memory optimisation. It is best used when the number of categories is **fixed** and **finite**. It is a form of *dynamic enumeration* and hence can have speed increases over using objects. There is also the possibility to order categorical variables.\n",
    "\n",
    "The pandas documentation notes the following.\n",
    "\n",
    "The categorical data type is useful in the following cases:\n",
    "\n",
    "* A string variable consisting of only a few different values. Converting such a string variable to a categorical variable will save some memory, see here.\n",
    "* The lexical order of a variable is not the same as the logical order (“one”, “two”, “three”). By converting to a categorical and specifying an order on the categories, sorting and min/max will use the logical order instead of the lexical order, see here.\n",
    "* As a signal to other Python libraries that this column should be treated as a categorical variable (e.g. to use suitable statistical methods or plot types)."
   ]
  },
  {
   "cell_type": "markdown",
   "metadata": {
    "toc-hr-collapsed": true
   },
   "source": [
    "## 2. Summary Stats + Quick Checks"
   ]
  },
  {
   "cell_type": "markdown",
   "metadata": {},
   "source": [
    "Generally it should be noted that these checks have been superceded by the pandas_profilling package"
   ]
  },
  {
   "cell_type": "markdown",
   "metadata": {},
   "source": [
    "### 2.1 Shape, Describe, Info"
   ]
  },
  {
   "cell_type": "code",
   "execution_count": null,
   "metadata": {},
   "outputs": [],
   "source": [
    "#check some attributes like the shape\n",
    "print(wine.shape)\n",
    "#And some summary statistics\n",
    "wine.describe()"
   ]
  },
  {
   "cell_type": "code",
   "execution_count": null,
   "metadata": {},
   "outputs": [],
   "source": [
    "#We could also natively check the row numbers by using len\n",
    "len(wine)"
   ]
  },
  {
   "cell_type": "code",
   "execution_count": null,
   "metadata": {},
   "outputs": [],
   "source": [
    "#The info tab allows us to see if the data has the right types\n",
    "wine.info()"
   ]
  },
  {
   "cell_type": "code",
   "execution_count": null,
   "metadata": {},
   "outputs": [],
   "source": [
    "#Note that we can ask for the dtype attribute on any particular series as well\n",
    "wine.density.dtype"
   ]
  },
  {
   "cell_type": "code",
   "execution_count": null,
   "metadata": {},
   "outputs": [],
   "source": [
    "#Or we can call dtypes on a df\n",
    "wine.dtypes"
   ]
  },
  {
   "cell_type": "markdown",
   "metadata": {},
   "source": [
    "### 2.2 Head and Tail"
   ]
  },
  {
   "cell_type": "markdown",
   "metadata": {},
   "source": [
    "These are useful for getting a quick glimpse of our df or series"
   ]
  },
  {
   "cell_type": "code",
   "execution_count": null,
   "metadata": {},
   "outputs": [],
   "source": [
    "print(wine.head(3).iloc[:,0:3])\n",
    "print(wine.tail(3).iloc[:,0:3])\n",
    "#Note that this returns a df when called on a df so we can slice the result from our call"
   ]
  },
  {
   "cell_type": "markdown",
   "metadata": {},
   "source": [
    "### 2.3 Using 'in' for checking"
   ]
  },
  {
   "cell_type": "markdown",
   "metadata": {},
   "source": [
    "A simple way to see if a value or category is in a series (df column) we can simply ask if it is in."
   ]
  },
  {
   "cell_type": "code",
   "execution_count": null,
   "metadata": {},
   "outputs": [],
   "source": [
    "5.9 in wine[\"fixed acidity\"]"
   ]
  },
  {
   "cell_type": "markdown",
   "metadata": {},
   "source": [
    "### 2.4 Value Counts"
   ]
  },
  {
   "cell_type": "markdown",
   "metadata": {},
   "source": [
    "This will just be a simple note on the series function for frequency counts for a categorical variable. This is a useful function to quickly check balance and the presence of nulls. The more advanced **crosstab** function is found in the reshaping section"
   ]
  },
  {
   "cell_type": "code",
   "execution_count": null,
   "metadata": {},
   "outputs": [],
   "source": [
    "#To explore any given categorical variable we can do the value counts. Usually a good idea to have the dropna=False\n",
    "wine[\"red_white\"].value_counts(dropna=False)"
   ]
  },
  {
   "cell_type": "markdown",
   "metadata": {},
   "source": [
    "### 2.5 Unique checks"
   ]
  },
  {
   "cell_type": "markdown",
   "metadata": {},
   "source": [
    "A nice little function to check the unique values in a column is simply unique. The documentation notes 'Significantly faster than numpy.unique. Includes NA values.'"
   ]
  },
  {
   "cell_type": "code",
   "execution_count": null,
   "metadata": {},
   "outputs": [],
   "source": [
    "pd.unique(wine.quality_binary)"
   ]
  },
  {
   "cell_type": "code",
   "execution_count": null,
   "metadata": {},
   "outputs": [],
   "source": [
    "#This can also be done as a series method\n",
    "wine.quality_binary.unique()"
   ]
  },
  {
   "cell_type": "markdown",
   "metadata": {
    "toc-hr-collapsed": true
   },
   "source": [
    "### 2.6 Useful Math Methods"
   ]
  },
  {
   "cell_type": "markdown",
   "metadata": {
    "toc-hr-collapsed": true
   },
   "source": [
    "#### 2.6.1 Correlation matrix"
   ]
  },
  {
   "cell_type": "markdown",
   "metadata": {},
   "source": [
    "Pandas has a nice built-in correlation matrix that can be undertaken natively on a df"
   ]
  },
  {
   "cell_type": "code",
   "execution_count": null,
   "metadata": {},
   "outputs": [],
   "source": [
    "wine.corr()"
   ]
  },
  {
   "cell_type": "markdown",
   "metadata": {
    "toc-hr-collapsed": false
   },
   "source": [
    "#### 2.6.2 Min, Max, Median etc"
   ]
  },
  {
   "cell_type": "code",
   "execution_count": 8,
   "metadata": {},
   "outputs": [
    {
     "name": "stdout",
     "output_type": "stream",
     "text": [
      "3.8\n",
      "15.9\n",
      "7.215307064799138\n",
      "7.0\n",
      "1.6807404883629504\n",
      "1.2964337577998155\n"
     ]
    }
   ],
   "source": [
    "#We can isolate out the min,mx, median etc by selecting the series object and applying the method directly\n",
    "print(wine[\"fixed acidity\"].min())\n",
    "print(wine[\"fixed acidity\"].max())\n",
    "\n",
    "#there is also simple descriptive stats\n",
    "print(wine[\"fixed acidity\"].mean())\n",
    "print(wine[\"fixed acidity\"].median())\n",
    "print(wine[\"fixed acidity\"].var()) #variance\n",
    "print(wine[\"fixed acidity\"].std()) #standard deviation\n"
   ]
  },
  {
   "cell_type": "markdown",
   "metadata": {
    "toc-hr-collapsed": false
   },
   "source": [
    "#### 2.6.3 Other useful math"
   ]
  },
  {
   "cell_type": "markdown",
   "metadata": {},
   "source": [
    "Some useful math operators would be:\n",
    "* Series.add\n",
    "  * Addition of series and other, element-wise (binary operator add).\n",
    "* Series.sub\n",
    "  * Subtraction of series and other, element-wise (binary operator sub).\n",
    "* Series.mul\n",
    "  * Multiplication of series and other, element-wise (binary operator mul).\n",
    "* Series.div\n",
    "  * Floating division of series and other, element-wise (binary operator truediv).\n",
    "* Series.mod\n",
    "  * Modulo of series and other, element-wise (binary operator mod).\n",
    "* Series.pow\n",
    "  * Exponential power of series and other, element-wise (binary operator pow).\n",
    "* Series.round\n",
    "  * Round each value in a Series to the given number of decimals.\n",
    "* Series.lt\n",
    "  * Less than of series and other, element-wise (binary operator lt).\n",
    "* Series.gt\n",
    "  * Greater than of series and other, element-wise (binary operator gt).\n",
    "* Series.le\n",
    "  * Less than or equal to of series and other, element-wise (binary operator le).\n",
    "* Series.ge\n",
    "  * Greater than or equal to of series and other, element-wise (binary operator ge).\n",
    "* Series.ne\n",
    "  * Not equal to of series and other, element-wise (binary operator ne).\n",
    "* Series.eq\n",
    "  * Equal to of series and other, element-wise (binary operator eq)."
   ]
  },
  {
   "cell_type": "markdown",
   "metadata": {
    "toc-hr-collapsed": false
   },
   "source": [
    "## 3. Strings"
   ]
  },
  {
   "cell_type": "markdown",
   "metadata": {
    "toc-hr-collapsed": true
   },
   "source": [
    "### 3.1 Regex extraction"
   ]
  },
  {
   "cell_type": "code",
   "execution_count": 57,
   "metadata": {},
   "outputs": [],
   "source": [
    "cars_reg = cars.copy()"
   ]
  },
  {
   "cell_type": "code",
   "execution_count": 58,
   "metadata": {},
   "outputs": [
    {
     "data": {
      "text/plain": [
       "0    False\n",
       "1     True\n",
       "2    False\n",
       "3     True\n",
       "4     True\n",
       "5    False\n",
       "6    False\n",
       "Name: country, dtype: bool"
      ]
     },
     "execution_count": 58,
     "metadata": {},
     "output_type": "execute_result"
    }
   ],
   "source": [
    "#We can do a regex match on strings to extract.\n",
    "cars_reg[\"country\"].str.contains('ia')"
   ]
  },
  {
   "cell_type": "code",
   "execution_count": 59,
   "metadata": {},
   "outputs": [
    {
     "data": {
      "text/html": [
       "<div>\n",
       "<style scoped>\n",
       "    .dataframe tbody tr th:only-of-type {\n",
       "        vertical-align: middle;\n",
       "    }\n",
       "\n",
       "    .dataframe tbody tr th {\n",
       "        vertical-align: top;\n",
       "    }\n",
       "\n",
       "    .dataframe thead th {\n",
       "        text-align: right;\n",
       "    }\n",
       "</style>\n",
       "<table border=\"1\" class=\"dataframe\">\n",
       "  <thead>\n",
       "    <tr style=\"text-align: right;\">\n",
       "      <th></th>\n",
       "      <th>country</th>\n",
       "      <th>drives_right</th>\n",
       "      <th>cars_per_cap</th>\n",
       "    </tr>\n",
       "  </thead>\n",
       "  <tbody>\n",
       "    <tr>\n",
       "      <th>1</th>\n",
       "      <td>Australia</td>\n",
       "      <td>False</td>\n",
       "      <td>731</td>\n",
       "    </tr>\n",
       "    <tr>\n",
       "      <th>3</th>\n",
       "      <td>India</td>\n",
       "      <td>False</td>\n",
       "      <td>18</td>\n",
       "    </tr>\n",
       "    <tr>\n",
       "      <th>4</th>\n",
       "      <td>Russia</td>\n",
       "      <td>True</td>\n",
       "      <td>200</td>\n",
       "    </tr>\n",
       "  </tbody>\n",
       "</table>\n",
       "</div>"
      ],
      "text/plain": [
       "     country  drives_right  cars_per_cap\n",
       "1  Australia         False           731\n",
       "3      India         False            18\n",
       "4     Russia          True           200"
      ]
     },
     "execution_count": 59,
     "metadata": {},
     "output_type": "execute_result"
    }
   ],
   "source": [
    "cars_reg = cars_reg[cars[\"country\"].str.contains('ia')]\n",
    "cars_reg"
   ]
  },
  {
   "cell_type": "markdown",
   "metadata": {
    "toc-hr-collapsed": true
   },
   "source": [
    "### 3.2 Editing strings"
   ]
  },
  {
   "cell_type": "markdown",
   "metadata": {},
   "source": [
    "Some other useful functions to edit strings would be:\n",
    "* Series.str.capitalize()\n",
    "    * Convert strings in the Series/Index to be capitalized.\n",
    "* Series.str.count(pat[, flags])\n",
    "    * Count occurrences of pattern in each string of the Series/Index.\n",
    "* Series.str.join(sep)\n",
    "    * Join lists contained as elements in the Series/Index with passed delimiter.\n",
    "* Series.str.len()\n",
    "    * Compute length of each string in the Series/Index.\n",
    "* Series.str.lower()\n",
    "    * Convert strings in the Series/Index to lowercase.\n",
    "* Series.str.repeat(repeats)\n",
    "    * Duplicate each string in the Series/Index by indicated number of times.\n",
    "* Series.str.replace(pat, repl[, n, case, …])\n",
    "    * Replace occurrences of pattern/regex in the Series/Index with some other string.\n",
    "* Series.str.slice([start, stop, step])\n",
    "    * Slice substrings from each element in the Series/Index\n",
    "* Series.str.slice_replace([start, stop, repl])\n",
    "    * Replace a positional slice of a string with another value.\n",
    "* Series.str.split([pat, n, expand])\n",
    "    * Split strings around given separator/delimiter.\n",
    "* Series.str.strip([to_strip])\n",
    "    * Strip whitespace (including newlines) from each string in the Series/Index from left and right sides.\n",
    "* Series.str.title()\n",
    "    * Convert strings in the Series/Index to titlecase.\n",
    "* Series.str.translate(table[, deletechars])\n",
    "    * Map all characters in the string through the given mapping table.\n",
    "* Series.str.upper()\n",
    "    * Convert strings in the Series/Index to uppercase.\n",
    "* Series.str.isalnum()\n",
    "    * Check whether all characters in each string in the Series/Index are alphanumeric.\n",
    "    * there are a variety of other similar checks that can be done"
   ]
  },
  {
   "cell_type": "code",
   "execution_count": null,
   "metadata": {},
   "outputs": [],
   "source": []
  }
 ],
 "metadata": {
  "kernelspec": {
   "display_name": "Python 3",
   "language": "python",
   "name": "python3"
  },
  "language_info": {
   "codemirror_mode": {
    "name": "ipython",
    "version": 3
   },
   "file_extension": ".py",
   "mimetype": "text/x-python",
   "name": "python",
   "nbconvert_exporter": "python",
   "pygments_lexer": "ipython3",
   "version": "3.6.5"
  },
  "toc-autonumbering": false,
  "toc-showcode": false,
  "toc-showmarkdowntxt": false,
  "toc-showtags": false
 },
 "nbformat": 4,
 "nbformat_minor": 2
}
